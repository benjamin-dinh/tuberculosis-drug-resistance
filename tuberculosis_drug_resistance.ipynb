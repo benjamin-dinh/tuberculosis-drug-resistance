{
  "nbformat": 4,
  "nbformat_minor": 0,
  "metadata": {
    "colab": {
      "name": "tuberculosis_drug_resistance.ipynb",
      "provenance": [],
      "collapsed_sections": [
        "tfUFzbzSFykR"
      ],
      "include_colab_link": true
    },
    "kernelspec": {
      "name": "python3",
      "display_name": "Python 3"
    }
  },
  "cells": [
    {
      "cell_type": "markdown",
      "metadata": {
        "id": "view-in-github",
        "colab_type": "text"
      },
      "source": [
        "<a href=\"https://colab.research.google.com/github/benjamin-dinh/tuberculosis-drug-resistance/blob/main/tuberculosis_drug_resistance.ipynb\" target=\"_parent\"><img src=\"https://colab.research.google.com/assets/colab-badge.svg\" alt=\"Open In Colab\"/></a>"
      ]
    },
    {
      "cell_type": "markdown",
      "metadata": {
        "id": "yvrGFq7dwleq"
      },
      "source": [
        "# **Tuberculosis Drug Resistance**\n",
        "\n",
        "Team: McKenzie Hochbery, Melissa Jost, Mohammad Ismail Daud, Taimur Kashif, Benjamin Dinh\n",
        "\n",
        "We built four models to determine thresholds for high and low data signals. We looked at whether certain molecular probes designed to detect specific gene mutations yield high or low signals. Early detection of drug resistance can quicken the process of finding the right drug cocktail to treat TB.\n",
        "\n",
        "Our four models were:\n",
        "- Z-Scores\n",
        "- Decision Trees\n",
        "- Neural Networks\n",
        "- Logistic Regression\n",
        "\n",
        "Result: Decision Trees yielded the highest accuract rate of 98%."
      ]
    },
    {
      "cell_type": "markdown",
      "metadata": {
        "id": "KY10CZ6gFWQm"
      },
      "source": [
        "## *Preprocessing*\n",
        "---\n",
        "\n"
      ]
    },
    {
      "cell_type": "code",
      "metadata": {
        "id": "0FphiImMEznA",
        "colab": {
          "base_uri": "https://localhost:8080/"
        },
        "outputId": "200dbec6-1343-4cb0-9015-3dd3e55155dc"
      },
      "source": [
        "import pandas as pd\n",
        "\n",
        "!pip install styleframe\n",
        "from styleframe import StyleFrame, utils\n",
        "from sklearn.model_selection import train_test_split"
      ],
      "execution_count": null,
      "outputs": [
        {
          "output_type": "stream",
          "text": [
            "Collecting styleframe\n",
            "  Downloading https://files.pythonhosted.org/packages/4b/2c/14b3e6de60f2b18525117204ee03664927b4ca4179ae67f66a76c43d7a12/styleframe-3.0.5-py3-none-any.whl\n",
            "Requirement already satisfied: xlrd<1.3.0,>=1.0.0 in /usr/local/lib/python3.6/dist-packages (from styleframe) (1.1.0)\n",
            "Requirement already satisfied: openpyxl<3.0.5,>=2.5 in /usr/local/lib/python3.6/dist-packages (from styleframe) (2.5.9)\n",
            "Requirement already satisfied: jsonschema in /usr/local/lib/python3.6/dist-packages (from styleframe) (2.6.0)\n",
            "Collecting colour<0.2,>=0.1.5\n",
            "  Downloading https://files.pythonhosted.org/packages/74/46/e81907704ab203206769dee1385dc77e1407576ff8f50a0681d0a6b541be/colour-0.1.5-py2.py3-none-any.whl\n",
            "Requirement already satisfied: pandas<1.2.0 in /usr/local/lib/python3.6/dist-packages (from styleframe) (1.1.5)\n",
            "Requirement already satisfied: jdcal in /usr/local/lib/python3.6/dist-packages (from openpyxl<3.0.5,>=2.5->styleframe) (1.4.1)\n",
            "Requirement already satisfied: et-xmlfile in /usr/local/lib/python3.6/dist-packages (from openpyxl<3.0.5,>=2.5->styleframe) (1.0.1)\n",
            "Requirement already satisfied: python-dateutil>=2.7.3 in /usr/local/lib/python3.6/dist-packages (from pandas<1.2.0->styleframe) (2.8.1)\n",
            "Requirement already satisfied: pytz>=2017.2 in /usr/local/lib/python3.6/dist-packages (from pandas<1.2.0->styleframe) (2018.9)\n",
            "Requirement already satisfied: numpy>=1.15.4 in /usr/local/lib/python3.6/dist-packages (from pandas<1.2.0->styleframe) (1.18.5)\n",
            "Requirement already satisfied: six>=1.5 in /usr/local/lib/python3.6/dist-packages (from python-dateutil>=2.7.3->pandas<1.2.0->styleframe) (1.15.0)\n",
            "Installing collected packages: colour, styleframe\n",
            "Successfully installed colour-0.1.5 styleframe-3.0.5\n"
          ],
          "name": "stdout"
        }
      ]
    },
    {
      "cell_type": "code",
      "metadata": {
        "id": "BtpuLJLrhD2E",
        "colab": {
          "resources": {
            "http://localhost:8080/nbextensions/google.colab/files.js": {
              "data": "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",
              "ok": true,
              "headers": [
                [
                  "content-type",
                  "application/javascript"
                ]
              ],
              "status": 200,
              "status_text": ""
            }
          },
          "base_uri": "https://localhost:8080/",
          "height": 72
        },
        "outputId": "cbe095fc-a96d-4b9b-c733-f857fb073de0"
      },
      "source": [
        "from google.colab import files\n",
        "uploaded = files.upload() # cleared excel sheet of unnecessary rows/columns before upload"
      ],
      "execution_count": null,
      "outputs": [
        {
          "output_type": "display_data",
          "data": {
            "text/html": [
              "\n",
              "     <input type=\"file\" id=\"files-d96cd4ce-05df-4442-8318-91709540b601\" name=\"files[]\" multiple disabled\n",
              "        style=\"border:none\" />\n",
              "     <output id=\"result-d96cd4ce-05df-4442-8318-91709540b601\">\n",
              "      Upload widget is only available when the cell has been executed in the\n",
              "      current browser session. Please rerun this cell to enable.\n",
              "      </output>\n",
              "      <script src=\"/nbextensions/google.colab/files.js\"></script> "
            ],
            "text/plain": [
              "<IPython.core.display.HTML object>"
            ]
          },
          "metadata": {
            "tags": []
          }
        },
        {
          "output_type": "stream",
          "text": [
            "Saving mdr_tb_data.xlsx to mdr_tb_data.xlsx\n"
          ],
          "name": "stdout"
        }
      ]
    },
    {
      "cell_type": "code",
      "metadata": {
        "id": "S4e2_o81qoIg"
      },
      "source": [
        "# store each value in dataframe as an object\n",
        "class Data:\n",
        "  def __init__(self, value, expressed):\n",
        "    self.value = value # value in data table\n",
        "    self.expressed = expressed # boolean to represent if the signal is expressed"
      ],
      "execution_count": null,
      "outputs": []
    },
    {
      "cell_type": "code",
      "metadata": {
        "id": "m63AaVOPhG7X",
        "colab": {
          "base_uri": "https://localhost:8080/",
          "height": 762
        },
        "outputId": "67e65b4e-a4a9-4f7f-a9cf-90701b9bdc6d"
      },
      "source": [
        "# transfer entire excel sheet into data frame\n",
        "sf = StyleFrame.read_excel('mdr_tb_data.xlsx', read_style=True)\n",
        "\n",
        "#iterate through data to note which samples are expressed or not\n",
        "for row in range(0, 336):\n",
        "    for col in range(0, 43):\n",
        "        col_name = sf.data_df.columns[col]\n",
        "        cell_val = sf.data_df.iloc[row, col].value\n",
        "        if sf.iloc[row, col].style.bg_color in {utils.colors.black, '00000000'}:\n",
        "            x = False # white background data cell\n",
        "        else:\n",
        "            x = True # non-white background data cell\n",
        "        result = Data(cell_val, x)\n",
        "        # sf.iloc[row, col].value = result # store object back into data frame\n",
        "        sf.iloc[row, col].value = [cell_val, x]     # use this line to visually look at values in data frame\n",
        "\n",
        "# remove last duplicate row to clean data\n",
        "sf.data_df = sf.data_df.drop(sf.data_df.index[[336]])\n",
        "\n",
        "# display dataframe stored within styleframe\n",
        "sf.data_df"
      ],
      "execution_count": null,
      "outputs": [
        {
          "output_type": "execute_result",
          "data": {
            "text/html": [
              "<div>\n",
              "<style scoped>\n",
              "    .dataframe tbody tr th:only-of-type {\n",
              "        vertical-align: middle;\n",
              "    }\n",
              "\n",
              "    .dataframe tbody tr th {\n",
              "        vertical-align: top;\n",
              "    }\n",
              "\n",
              "    .dataframe thead th {\n",
              "        text-align: right;\n",
              "    }\n",
              "</style>\n",
              "<table border=\"1\" class=\"dataframe\">\n",
              "  <thead>\n",
              "    <tr style=\"text-align: right;\">\n",
              "      <th></th>\n",
              "      <th>Sample ID</th>\n",
              "      <th>132 katG 315 Ser 8/10/09</th>\n",
              "      <th>133 katG 315 Thr 8/10/09</th>\n",
              "      <th>102 katG 315 Arg 3/25/09</th>\n",
              "      <th>104 katG 315 ile 10/19/09</th>\n",
              "      <th>105 katG 315 Gly 10/19/09</th>\n",
              "      <th>106 katG 315 Asn 3/25/09</th>\n",
              "      <th>315 katG Thr 5/2009 (2)</th>\n",
              "      <th>143 inhA -15C 11/1/11</th>\n",
              "      <th>145 inhA -15T 11/1/11</th>\n",
              "      <th>162 rpoB 516 Asp 6//6/11</th>\n",
              "      <th>115 rpoB 516 Tyr 11/10/11</th>\n",
              "      <th>118 rpoB 516 Val 6/15/09</th>\n",
              "      <th>121 rpoB 516 Glu 8/18/11</th>\n",
              "      <th>169 rpoB 516 Gly 9/2/11</th>\n",
              "      <th>515 and 516 ATC rpoB (28)</th>\n",
              "      <th>515 and 516 rpoB ATT (58)</th>\n",
              "      <th>88 rpoB 526 His 21 bp 4/4/18</th>\n",
              "      <th>103 rpoB 526 Asp 8/18/11</th>\n",
              "      <th>135 rpoB 526 Tyr 11/10/11</th>\n",
              "      <th>108 rpoB 526 Arg 8/18/11</th>\n",
              "      <th>164 rpoB 526 Leu 6/1/11</th>\n",
              "      <th>168 rpoB 526 Cys 9/2/11</th>\n",
              "      <th>181 rpoB 526 Pro 11/9/11</th>\n",
              "      <th>188 rpoB 531 ser WT 9/2/11</th>\n",
              "      <th>110 rpoB Cys  531 11/10/11</th>\n",
              "      <th>130 rpoB 531 Trp 11/14/11</th>\n",
              "      <th>136 rpoB 531 Leu 8/18/11</th>\n",
              "      <th>166 rpsL 43 Wt 8/18/11</th>\n",
              "      <th>167 rpsL 43 8/18/11</th>\n",
              "      <th>134 rpsL 88 11/14/2011</th>\n",
              "      <th>127 rpsL 88 11/14/2011</th>\n",
              "      <th>175 rrs 513A 1/23/12</th>\n",
              "      <th>146 rrs 513C 2/6/2012</th>\n",
              "      <th>148 rrs 516C WT 10/15/2012</th>\n",
              "      <th>161 rrs 516T 10/30/2012</th>\n",
              "      <th>140 embB 306 WT 10/15/2012</th>\n",
              "      <th>157 embB 306 Val 10/30/2012</th>\n",
              "      <th>306 emB Iso ATC 5-16-13 (77)</th>\n",
              "      <th>126 306 embB ATA (26)</th>\n",
              "      <th>306 emB ATT 11-25-13 (78)</th>\n",
              "      <th>150 IS6110 9/2011</th>\n",
              "      <th>Unnamed: 42</th>\n",
              "      <th>Unnamed: 43</th>\n",
              "    </tr>\n",
              "  </thead>\n",
              "  <tbody>\n",
              "    <tr>\n",
              "      <th>0</th>\n",
              "      <td>['474/12', False]</td>\n",
              "      <td>[209.0, False]</td>\n",
              "      <td>[3124.0, True]</td>\n",
              "      <td>[125.0, False]</td>\n",
              "      <td>[178.0, False]</td>\n",
              "      <td>[145.5, False]</td>\n",
              "      <td>[299.5, False]</td>\n",
              "      <td>[147.0, False]</td>\n",
              "      <td>[7989.5, True]</td>\n",
              "      <td>[1219.0, False]</td>\n",
              "      <td>[138.0, False]</td>\n",
              "      <td>[79.0, False]</td>\n",
              "      <td>[200.0, False]</td>\n",
              "      <td>[138.0, False]</td>\n",
              "      <td>[140.5, False]</td>\n",
              "      <td>[147.0, False]</td>\n",
              "      <td>[1153.0, True]</td>\n",
              "      <td>[6356.0, True]</td>\n",
              "      <td>[172.0, False]</td>\n",
              "      <td>[247.0, False]</td>\n",
              "      <td>[250.0, False]</td>\n",
              "      <td>[504.0, False]</td>\n",
              "      <td>[143.0, False]</td>\n",
              "      <td>[231.5, False]</td>\n",
              "      <td>[2050.5, True]</td>\n",
              "      <td>[122.0, False]</td>\n",
              "      <td>[277.0, False]</td>\n",
              "      <td>[442.0, False]</td>\n",
              "      <td>[5880.0, True]</td>\n",
              "      <td>[190.0, False]</td>\n",
              "      <td>[7318.0, True]</td>\n",
              "      <td>[280.0, False]</td>\n",
              "      <td>[3903.5, True]</td>\n",
              "      <td>[160.0, False]</td>\n",
              "      <td>[5595.0, True]</td>\n",
              "      <td>[320.5, False]</td>\n",
              "      <td>[674.0, False]</td>\n",
              "      <td>[159.0, False]</td>\n",
              "      <td>[3387.0, True]</td>\n",
              "      <td>[1424.0, False]</td>\n",
              "      <td>[263.0, False]</td>\n",
              "      <td>[6389.5, False]</td>\n",
              "      <td>[nan, False]</td>\n",
              "      <td>nan</td>\n",
              "    </tr>\n",
              "    <tr>\n",
              "      <th>1</th>\n",
              "      <td>['↓', False]</td>\n",
              "      <td>[207.5, False]</td>\n",
              "      <td>[3176.0, True]</td>\n",
              "      <td>[125.0, False]</td>\n",
              "      <td>[167.5, False]</td>\n",
              "      <td>[108.0, False]</td>\n",
              "      <td>[266.0, False]</td>\n",
              "      <td>[147.0, False]</td>\n",
              "      <td>[7916.0, True]</td>\n",
              "      <td>[1268.0, False]</td>\n",
              "      <td>[173.0, False]</td>\n",
              "      <td>[124.0, False]</td>\n",
              "      <td>[135.5, False]</td>\n",
              "      <td>[131.0, False]</td>\n",
              "      <td>[132.0, False]</td>\n",
              "      <td>[103.5, False]</td>\n",
              "      <td>[1086.5, True]</td>\n",
              "      <td>[6493.0, True]</td>\n",
              "      <td>[210.5, False]</td>\n",
              "      <td>[228.0, False]</td>\n",
              "      <td>[266.0, False]</td>\n",
              "      <td>[533.0, False]</td>\n",
              "      <td>[108.0, False]</td>\n",
              "      <td>[241.0, False]</td>\n",
              "      <td>[2131.0, True]</td>\n",
              "      <td>[142.0, False]</td>\n",
              "      <td>[292.5, False]</td>\n",
              "      <td>[445.5, False]</td>\n",
              "      <td>[5941.0, True]</td>\n",
              "      <td>[180.0, False]</td>\n",
              "      <td>[7596.0, True]</td>\n",
              "      <td>[277.0, False]</td>\n",
              "      <td>[3889.5, True]</td>\n",
              "      <td>[143.0, False]</td>\n",
              "      <td>[5516.0, True]</td>\n",
              "      <td>[318.0, False]</td>\n",
              "      <td>[730.5, False]</td>\n",
              "      <td>[116.5, False]</td>\n",
              "      <td>[3455.0, True]</td>\n",
              "      <td>[1414.0, False]</td>\n",
              "      <td>[263.0, False]</td>\n",
              "      <td>[6689.0, False]</td>\n",
              "      <td>[nan, False]</td>\n",
              "      <td>nan</td>\n",
              "    </tr>\n",
              "    <tr>\n",
              "      <th>2</th>\n",
              "      <td>['497/12', False]</td>\n",
              "      <td>[182.0, False]</td>\n",
              "      <td>[3205.0, True]</td>\n",
              "      <td>[138.0, False]</td>\n",
              "      <td>[180.0, False]</td>\n",
              "      <td>[114.0, False]</td>\n",
              "      <td>[296.0, False]</td>\n",
              "      <td>[147.0, False]</td>\n",
              "      <td>[6660.0, True]</td>\n",
              "      <td>[880.0, False]</td>\n",
              "      <td>[1981.0, True]</td>\n",
              "      <td>[134.5, False]</td>\n",
              "      <td>[229.5, False]</td>\n",
              "      <td>[322.5, False]</td>\n",
              "      <td>[418.0, False]</td>\n",
              "      <td>[112.0, False]</td>\n",
              "      <td>[117.0, False]</td>\n",
              "      <td>[6857.5, True]</td>\n",
              "      <td>[454.0, False]</td>\n",
              "      <td>[466.0, False]</td>\n",
              "      <td>[497.5, False]</td>\n",
              "      <td>[1025.0, False]</td>\n",
              "      <td>[160.5, False]</td>\n",
              "      <td>[408.0, False]</td>\n",
              "      <td>[186.0, False]</td>\n",
              "      <td>[195.0, False]</td>\n",
              "      <td>[896.0, False]</td>\n",
              "      <td>[5245.0, True]</td>\n",
              "      <td>[218.0, False]</td>\n",
              "      <td>[3898.0, True]</td>\n",
              "      <td>[8077.5, True]</td>\n",
              "      <td>[299.5, False]</td>\n",
              "      <td>[4720.0, True]</td>\n",
              "      <td>[159.0, False]</td>\n",
              "      <td>[7942.0, True]</td>\n",
              "      <td>[331.0, False]</td>\n",
              "      <td>[551.5, False]</td>\n",
              "      <td>[3666.0, True]</td>\n",
              "      <td>[130.0, False]</td>\n",
              "      <td>[97.0, False]</td>\n",
              "      <td>[263.0, False]</td>\n",
              "      <td>[6220.0, False]</td>\n",
              "      <td>[nan, False]</td>\n",
              "      <td>nan</td>\n",
              "    </tr>\n",
              "    <tr>\n",
              "      <th>3</th>\n",
              "      <td>['↓', False]</td>\n",
              "      <td>[199.5, False]</td>\n",
              "      <td>[3298.5, True]</td>\n",
              "      <td>[122.5, False]</td>\n",
              "      <td>[180.0, False]</td>\n",
              "      <td>[146.0, False]</td>\n",
              "      <td>[298.0, False]</td>\n",
              "      <td>[147.0, False]</td>\n",
              "      <td>[6961.0, True]</td>\n",
              "      <td>[903.0, False]</td>\n",
              "      <td>[1961.0, True]</td>\n",
              "      <td>[158.0, False]</td>\n",
              "      <td>[211.5, False]</td>\n",
              "      <td>[312.0, False]</td>\n",
              "      <td>[377.0, False]</td>\n",
              "      <td>[112.0, False]</td>\n",
              "      <td>[117.0, False]</td>\n",
              "      <td>[7240.0, True]</td>\n",
              "      <td>[475.5, False]</td>\n",
              "      <td>[500.0, False]</td>\n",
              "      <td>[528.5, False]</td>\n",
              "      <td>[1107.5, False]</td>\n",
              "      <td>[178.0, False]</td>\n",
              "      <td>[443.0, False]</td>\n",
              "      <td>[247.0, False]</td>\n",
              "      <td>[192.0, False]</td>\n",
              "      <td>[961.0, False]</td>\n",
              "      <td>[5532.5, True]</td>\n",
              "      <td>[198.0, False]</td>\n",
              "      <td>[4016.5, True]</td>\n",
              "      <td>[8208.0, True]</td>\n",
              "      <td>[315.0, False]</td>\n",
              "      <td>[5066.0, True]</td>\n",
              "      <td>[185.0, False]</td>\n",
              "      <td>[8294.0, True]</td>\n",
              "      <td>[392.5, False]</td>\n",
              "      <td>[586.0, False]</td>\n",
              "      <td>[3681.5, True]</td>\n",
              "      <td>[131.0, False]</td>\n",
              "      <td>[66.0, False]</td>\n",
              "      <td>[263.0, False]</td>\n",
              "      <td>[6328.0, False]</td>\n",
              "      <td>[nan, False]</td>\n",
              "      <td>nan</td>\n",
              "    </tr>\n",
              "    <tr>\n",
              "      <th>4</th>\n",
              "      <td>['539/12', False]</td>\n",
              "      <td>[309.5, False]</td>\n",
              "      <td>[4069.0, True]</td>\n",
              "      <td>[146.0, False]</td>\n",
              "      <td>[203.0, False]</td>\n",
              "      <td>[138.5, False]</td>\n",
              "      <td>[405.5, False]</td>\n",
              "      <td>[147.0, False]</td>\n",
              "      <td>[6719.5, True]</td>\n",
              "      <td>[774.0, False]</td>\n",
              "      <td>[765.0, False]</td>\n",
              "      <td>[1547.5, True]</td>\n",
              "      <td>[114.5, False]</td>\n",
              "      <td>[162.0, False]</td>\n",
              "      <td>[221.0, False]</td>\n",
              "      <td>[112.0, False]</td>\n",
              "      <td>[117.0, False]</td>\n",
              "      <td>[5590.0, True]</td>\n",
              "      <td>[200.0, False]</td>\n",
              "      <td>[221.0, False]</td>\n",
              "      <td>[235.0, False]</td>\n",
              "      <td>[388.5, False]</td>\n",
              "      <td>[127.0, False]</td>\n",
              "      <td>[253.0, False]</td>\n",
              "      <td>[2145.0, True]</td>\n",
              "      <td>[135.5, False]</td>\n",
              "      <td>[425.5, False]</td>\n",
              "      <td>[973.0, False]</td>\n",
              "      <td>[256.5, False]</td>\n",
              "      <td>[5486.0, True]</td>\n",
              "      <td>[8346.5, True]</td>\n",
              "      <td>[368.0, False]</td>\n",
              "      <td>[3937.5, True]</td>\n",
              "      <td>[146.0, False]</td>\n",
              "      <td>[5559.0, True]</td>\n",
              "      <td>[320.5, False]</td>\n",
              "      <td>[528.5, False]</td>\n",
              "      <td>[4510.0, True]</td>\n",
              "      <td>[94.0, False]</td>\n",
              "      <td>[88.5, False]</td>\n",
              "      <td>[263.0, False]</td>\n",
              "      <td>[6571.0, False]</td>\n",
              "      <td>[nan, False]</td>\n",
              "      <td>nan</td>\n",
              "    </tr>\n",
              "    <tr>\n",
              "      <th>...</th>\n",
              "      <td>...</td>\n",
              "      <td>...</td>\n",
              "      <td>...</td>\n",
              "      <td>...</td>\n",
              "      <td>...</td>\n",
              "      <td>...</td>\n",
              "      <td>...</td>\n",
              "      <td>...</td>\n",
              "      <td>...</td>\n",
              "      <td>...</td>\n",
              "      <td>...</td>\n",
              "      <td>...</td>\n",
              "      <td>...</td>\n",
              "      <td>...</td>\n",
              "      <td>...</td>\n",
              "      <td>...</td>\n",
              "      <td>...</td>\n",
              "      <td>...</td>\n",
              "      <td>...</td>\n",
              "      <td>...</td>\n",
              "      <td>...</td>\n",
              "      <td>...</td>\n",
              "      <td>...</td>\n",
              "      <td>...</td>\n",
              "      <td>...</td>\n",
              "      <td>...</td>\n",
              "      <td>...</td>\n",
              "      <td>...</td>\n",
              "      <td>...</td>\n",
              "      <td>...</td>\n",
              "      <td>...</td>\n",
              "      <td>...</td>\n",
              "      <td>...</td>\n",
              "      <td>...</td>\n",
              "      <td>...</td>\n",
              "      <td>...</td>\n",
              "      <td>...</td>\n",
              "      <td>...</td>\n",
              "      <td>...</td>\n",
              "      <td>...</td>\n",
              "      <td>...</td>\n",
              "      <td>...</td>\n",
              "      <td>...</td>\n",
              "      <td>...</td>\n",
              "    </tr>\n",
              "    <tr>\n",
              "      <th>331</th>\n",
              "      <td>[nan, False]</td>\n",
              "      <td>[149.5, False]</td>\n",
              "      <td>[81.0, False]</td>\n",
              "      <td>[3249.0, True]</td>\n",
              "      <td>[88.0, False]</td>\n",
              "      <td>[95.0, False]</td>\n",
              "      <td>[155.0, False]</td>\n",
              "      <td>[236.0, False]</td>\n",
              "      <td>[3172.0, True]</td>\n",
              "      <td>[201.0, False]</td>\n",
              "      <td>[827.0, True]</td>\n",
              "      <td>[134.5, False]</td>\n",
              "      <td>[114.0, False]</td>\n",
              "      <td>[127.5, False]</td>\n",
              "      <td>[102.5, False]</td>\n",
              "      <td>[179.0, False]</td>\n",
              "      <td>[75.0, False]</td>\n",
              "      <td>[933.0, True]</td>\n",
              "      <td>[105.0, False]</td>\n",
              "      <td>[111.0, False]</td>\n",
              "      <td>[41.0, False]</td>\n",
              "      <td>[143.5, False]</td>\n",
              "      <td>[130.0, False]</td>\n",
              "      <td>[86.0, False]</td>\n",
              "      <td>[136.0, False]</td>\n",
              "      <td>[1030.0, False]</td>\n",
              "      <td>[2934.0, True]</td>\n",
              "      <td>[110.0, False]</td>\n",
              "      <td>[121.0, False]</td>\n",
              "      <td>[2133.0, True]</td>\n",
              "      <td>[4138.5, True]</td>\n",
              "      <td>[218.0, False]</td>\n",
              "      <td>[1962.0, True]</td>\n",
              "      <td>[94.5, False]</td>\n",
              "      <td>[4327.0, True]</td>\n",
              "      <td>[137.0, False]</td>\n",
              "      <td>[231.0, False]</td>\n",
              "      <td>[2071.0, True]</td>\n",
              "      <td>[80.5, False]</td>\n",
              "      <td>[103.0, False]</td>\n",
              "      <td>[91.0, False]</td>\n",
              "      <td>[4033.0, False]</td>\n",
              "      <td>[nan, False]</td>\n",
              "      <td>nan</td>\n",
              "    </tr>\n",
              "    <tr>\n",
              "      <th>332</th>\n",
              "      <td>['MDR 54/16 cul', False]</td>\n",
              "      <td>[179.0, False]</td>\n",
              "      <td>[110.0, False]</td>\n",
              "      <td>[3661.0, True]</td>\n",
              "      <td>[159.5, False]</td>\n",
              "      <td>[114.0, False]</td>\n",
              "      <td>[144.0, False]</td>\n",
              "      <td>[261.0, False]</td>\n",
              "      <td>[3474.0, True]</td>\n",
              "      <td>[201.0, False]</td>\n",
              "      <td>[983.0, True]</td>\n",
              "      <td>[129.5, False]</td>\n",
              "      <td>[79.0, False]</td>\n",
              "      <td>[112.0, False]</td>\n",
              "      <td>[79.0, False]</td>\n",
              "      <td>[195.0, False]</td>\n",
              "      <td>[104.0, False]</td>\n",
              "      <td>[910.0, True]</td>\n",
              "      <td>[89.5, False]</td>\n",
              "      <td>[75.5, False]</td>\n",
              "      <td>[113.0, False]</td>\n",
              "      <td>[74.0, False]</td>\n",
              "      <td>[131.5, False]</td>\n",
              "      <td>[132.0, False]</td>\n",
              "      <td>[122.0, False]</td>\n",
              "      <td>[1130.0, False]</td>\n",
              "      <td>[3235.5, True]</td>\n",
              "      <td>[90.0, False]</td>\n",
              "      <td>[132.5, False]</td>\n",
              "      <td>[2189.0, True]</td>\n",
              "      <td>[3884.0, True]</td>\n",
              "      <td>[184.5, False]</td>\n",
              "      <td>[1774.0, True]</td>\n",
              "      <td>[83.0, False]</td>\n",
              "      <td>[3968.5, True]</td>\n",
              "      <td>[158.5, False]</td>\n",
              "      <td>[293.0, False]</td>\n",
              "      <td>[2044.0, True]</td>\n",
              "      <td>[90.0, False]</td>\n",
              "      <td>[96.0, False]</td>\n",
              "      <td>[103.5, False]</td>\n",
              "      <td>[3818.0, False]</td>\n",
              "      <td>[nan, False]</td>\n",
              "      <td>nan</td>\n",
              "    </tr>\n",
              "    <tr>\n",
              "      <th>333</th>\n",
              "      <td>[nan, False]</td>\n",
              "      <td>[154.5, False]</td>\n",
              "      <td>[82.0, False]</td>\n",
              "      <td>[3554.0, True]</td>\n",
              "      <td>[176.0, False]</td>\n",
              "      <td>[155.5, False]</td>\n",
              "      <td>[142.0, False]</td>\n",
              "      <td>[194.5, False]</td>\n",
              "      <td>[3525.0, True]</td>\n",
              "      <td>[221.0, False]</td>\n",
              "      <td>[932.0, True]</td>\n",
              "      <td>[81.0, False]</td>\n",
              "      <td>[118.0, False]</td>\n",
              "      <td>[107.0, False]</td>\n",
              "      <td>[117.5, False]</td>\n",
              "      <td>[187.0, False]</td>\n",
              "      <td>[86.5, False]</td>\n",
              "      <td>[901.5, True]</td>\n",
              "      <td>[119.0, False]</td>\n",
              "      <td>[95.0, False]</td>\n",
              "      <td>[119.0, False]</td>\n",
              "      <td>[89.5, False]</td>\n",
              "      <td>[120.0, False]</td>\n",
              "      <td>[119.0, False]</td>\n",
              "      <td>[146.0, False]</td>\n",
              "      <td>[1071.0, False]</td>\n",
              "      <td>[3266.0, True]</td>\n",
              "      <td>[127.5, False]</td>\n",
              "      <td>[126.0, False]</td>\n",
              "      <td>[2231.5, True]</td>\n",
              "      <td>[3954.5, True]</td>\n",
              "      <td>[204.0, False]</td>\n",
              "      <td>[1835.0, True]</td>\n",
              "      <td>[111.5, False]</td>\n",
              "      <td>[4106.0, True]</td>\n",
              "      <td>[178.5, False]</td>\n",
              "      <td>[249.0, False]</td>\n",
              "      <td>[2166.0, True]</td>\n",
              "      <td>[64.0, False]</td>\n",
              "      <td>[128.0, False]</td>\n",
              "      <td>[116.0, False]</td>\n",
              "      <td>[3916.0, False]</td>\n",
              "      <td>[nan, False]</td>\n",
              "      <td>nan</td>\n",
              "    </tr>\n",
              "    <tr>\n",
              "      <th>334</th>\n",
              "      <td>['MDR 73/16 cul', False]</td>\n",
              "      <td>[183.5, False]</td>\n",
              "      <td>[88.0, False]</td>\n",
              "      <td>[2203.5, True]</td>\n",
              "      <td>[133.0, False]</td>\n",
              "      <td>[96.0, False]</td>\n",
              "      <td>[155.5, False]</td>\n",
              "      <td>[176.0, False]</td>\n",
              "      <td>[1264.0, True]</td>\n",
              "      <td>[125.0, False]</td>\n",
              "      <td>[305.0, True]</td>\n",
              "      <td>[135.5, False]</td>\n",
              "      <td>[122.0, False]</td>\n",
              "      <td>[99.0, False]</td>\n",
              "      <td>[163.0, False]</td>\n",
              "      <td>[209.0, False]</td>\n",
              "      <td>[153.0, False]</td>\n",
              "      <td>[1081.5, True]</td>\n",
              "      <td>[125.0, False]</td>\n",
              "      <td>[137.0, False]</td>\n",
              "      <td>[137.0, False]</td>\n",
              "      <td>[83.0, False]</td>\n",
              "      <td>[271.5, False]</td>\n",
              "      <td>[187.0, False]</td>\n",
              "      <td>[134.5, False]</td>\n",
              "      <td>[476.0, False]</td>\n",
              "      <td>[1104.0, True]</td>\n",
              "      <td>[137.0, False]</td>\n",
              "      <td>[2689.0, True]</td>\n",
              "      <td>[120.0, False]</td>\n",
              "      <td>[3875.5, True]</td>\n",
              "      <td>[328.0, False]</td>\n",
              "      <td>[972.0, True]</td>\n",
              "      <td>[83.0, False]</td>\n",
              "      <td>[1901.0, True]</td>\n",
              "      <td>[182.0, False]</td>\n",
              "      <td>[338.0, False]</td>\n",
              "      <td>[159.5, False]</td>\n",
              "      <td>[1490.0, True]</td>\n",
              "      <td>[520.0, False]</td>\n",
              "      <td>[253.0, False]</td>\n",
              "      <td>[1397.0, False]</td>\n",
              "      <td>[nan, False]</td>\n",
              "      <td>nan</td>\n",
              "    </tr>\n",
              "    <tr>\n",
              "      <th>335</th>\n",
              "      <td>[nan, False]</td>\n",
              "      <td>[188.5, False]</td>\n",
              "      <td>[128.5, False]</td>\n",
              "      <td>[2269.0, True]</td>\n",
              "      <td>[173.0, False]</td>\n",
              "      <td>[75.0, False]</td>\n",
              "      <td>[108.0, False]</td>\n",
              "      <td>[243.0, False]</td>\n",
              "      <td>[1305.5, True]</td>\n",
              "      <td>[182.0, False]</td>\n",
              "      <td>[324.5, True]</td>\n",
              "      <td>[120.0, False]</td>\n",
              "      <td>[147.0, False]</td>\n",
              "      <td>[138.5, False]</td>\n",
              "      <td>[101.0, False]</td>\n",
              "      <td>[224.0, False]</td>\n",
              "      <td>[58.0, False]</td>\n",
              "      <td>[1084.0, True]</td>\n",
              "      <td>[132.0, False]</td>\n",
              "      <td>[161.0, False]</td>\n",
              "      <td>[171.0, False]</td>\n",
              "      <td>[110.5, False]</td>\n",
              "      <td>[290.0, False]</td>\n",
              "      <td>[242.0, False]</td>\n",
              "      <td>[170.0, False]</td>\n",
              "      <td>[473.0, False]</td>\n",
              "      <td>[1159.0, True]</td>\n",
              "      <td>[113.0, False]</td>\n",
              "      <td>[2784.0, True]</td>\n",
              "      <td>[154.5, False]</td>\n",
              "      <td>[3886.5, True]</td>\n",
              "      <td>[297.0, False]</td>\n",
              "      <td>[1012.0, True]</td>\n",
              "      <td>[96.5, False]</td>\n",
              "      <td>[1852.0, True]</td>\n",
              "      <td>[152.0, False]</td>\n",
              "      <td>[377.0, False]</td>\n",
              "      <td>[120.0, False]</td>\n",
              "      <td>[1406.0, True]</td>\n",
              "      <td>[504.5, False]</td>\n",
              "      <td>[284.0, False]</td>\n",
              "      <td>[1446.5, False]</td>\n",
              "      <td>[nan, False]</td>\n",
              "      <td>nan</td>\n",
              "    </tr>\n",
              "  </tbody>\n",
              "</table>\n",
              "<p>336 rows × 44 columns</p>\n",
              "</div>"
            ],
            "text/plain": [
              "                    Sample ID  ... Unnamed: 43\n",
              "0           ['474/12', False]  ...         nan\n",
              "1                ['↓', False]  ...         nan\n",
              "2           ['497/12', False]  ...         nan\n",
              "3                ['↓', False]  ...         nan\n",
              "4           ['539/12', False]  ...         nan\n",
              "..                        ...  ...         ...\n",
              "331              [nan, False]  ...         nan\n",
              "332  ['MDR 54/16 cul', False]  ...         nan\n",
              "333              [nan, False]  ...         nan\n",
              "334  ['MDR 73/16 cul', False]  ...         nan\n",
              "335              [nan, False]  ...         nan\n",
              "\n",
              "[336 rows x 44 columns]"
            ]
          },
          "metadata": {
            "tags": []
          },
          "execution_count": 6
        }
      ]
    },
    {
      "cell_type": "code",
      "metadata": {
        "id": "ibdFKt-JsEj1",
        "colab": {
          "base_uri": "https://localhost:8080/",
          "height": 419
        },
        "outputId": "d89b3200-3876-4dfe-ec1f-de62418a5984"
      },
      "source": [
        "# Isoniazid data frame\n",
        "idf_c = sf.data_df[[\" Sample ID\", \"132 katG 315 Ser 8/10/09\", \"133 katG 315 Thr 8/10/09\", \"102 katG 315 Arg 3/25/09\", \"104 katG 315 ile 10/19/09\", \"105 katG 315 Gly 10/19/09\", \"106 katG 315 Asn 3/25/09\", \"315 katG Thr 5/2009 (2)\",\"143 inhA -15C 11/1/11\", \"145 inhA -15T 11/1/11\"]]\n",
        "idf = idf_c.copy()\n",
        "\n",
        "# Rifampicin data frame\n",
        "rdf_c = sf.data_df[[\" Sample ID\", \"162 rpoB 516 Asp 6//6/11\", \"115 rpoB 516 Tyr 11/10/11\", \"118 rpoB 516 Val 6/15/09\", \"121 rpoB 516 Glu 8/18/11\", \"169 rpoB 516 Gly 9/2/11\", \"515 and 516 ATC rpoB (28)\", \"515 and 516 rpoB ATT (58)\",\"88 rpoB 526 His 21 bp 4/4/18\", \"103 rpoB 526 Asp 8/18/11\", \"135 rpoB 526 Tyr 11/10/11\", \"108 rpoB 526 Arg 8/18/11\", \"164 rpoB 526 Leu 6/1/11\", \"168 rpoB 526 Cys 9/2/11\", \"181 rpoB 526 Pro 11/9/11\",\"188 rpoB 531 ser WT 9/2/11\", \"110 rpoB Cys  531 11/10/11\", \"130 rpoB 531 Trp 11/14/11\", \"136 rpoB 531 Leu 8/18/11\"]]\n",
        "rdf = rdf_c.copy()\n",
        "\n",
        "# Streptomycin data frame\n",
        "sdf_c = sf.data_df[[\" Sample ID\", \"166 rpsL 43 Wt 8/18/11\", \"167 rpsL 43 8/18/11\", \"134 rpsL 88 11/14/2011\", \"127 rpsL 88 11/14/2011\", \"175 rrs 513A 1/23/12\", \"146 rrs 513C 2/6/2012\", \"148 rrs 516C WT 10/15/2012\", \"161 rrs 516T 10/30/2012\"]]\n",
        "sdf = sdf_c.copy()\n",
        "\n",
        "# Ethambutol data frame\n",
        "edf_c = sf.data_df[[\" Sample ID\", \"140 embB 306 WT 10/15/2012\", \"157 embB 306 Val 10/30/2012\", \"306 emB Iso ATC 5-16-13 (77)\", \"126 306 embB ATA (26)\", \"306 emB ATT 11-25-13 (78)\"]]\n",
        "edf = edf_c.copy()\n",
        "\n",
        "edf"
      ],
      "execution_count": null,
      "outputs": [
        {
          "output_type": "execute_result",
          "data": {
            "text/html": [
              "<div>\n",
              "<style scoped>\n",
              "    .dataframe tbody tr th:only-of-type {\n",
              "        vertical-align: middle;\n",
              "    }\n",
              "\n",
              "    .dataframe tbody tr th {\n",
              "        vertical-align: top;\n",
              "    }\n",
              "\n",
              "    .dataframe thead th {\n",
              "        text-align: right;\n",
              "    }\n",
              "</style>\n",
              "<table border=\"1\" class=\"dataframe\">\n",
              "  <thead>\n",
              "    <tr style=\"text-align: right;\">\n",
              "      <th></th>\n",
              "      <th>Sample ID</th>\n",
              "      <th>140 embB 306 WT 10/15/2012</th>\n",
              "      <th>157 embB 306 Val 10/30/2012</th>\n",
              "      <th>306 emB Iso ATC 5-16-13 (77)</th>\n",
              "      <th>126 306 embB ATA (26)</th>\n",
              "      <th>306 emB ATT 11-25-13 (78)</th>\n",
              "    </tr>\n",
              "  </thead>\n",
              "  <tbody>\n",
              "    <tr>\n",
              "      <th>0</th>\n",
              "      <td>['474/12', False]</td>\n",
              "      <td>[674.0, False]</td>\n",
              "      <td>[159.0, False]</td>\n",
              "      <td>[3387.0, True]</td>\n",
              "      <td>[1424.0, False]</td>\n",
              "      <td>[263.0, False]</td>\n",
              "    </tr>\n",
              "    <tr>\n",
              "      <th>1</th>\n",
              "      <td>['↓', False]</td>\n",
              "      <td>[730.5, False]</td>\n",
              "      <td>[116.5, False]</td>\n",
              "      <td>[3455.0, True]</td>\n",
              "      <td>[1414.0, False]</td>\n",
              "      <td>[263.0, False]</td>\n",
              "    </tr>\n",
              "    <tr>\n",
              "      <th>2</th>\n",
              "      <td>['497/12', False]</td>\n",
              "      <td>[551.5, False]</td>\n",
              "      <td>[3666.0, True]</td>\n",
              "      <td>[130.0, False]</td>\n",
              "      <td>[97.0, False]</td>\n",
              "      <td>[263.0, False]</td>\n",
              "    </tr>\n",
              "    <tr>\n",
              "      <th>3</th>\n",
              "      <td>['↓', False]</td>\n",
              "      <td>[586.0, False]</td>\n",
              "      <td>[3681.5, True]</td>\n",
              "      <td>[131.0, False]</td>\n",
              "      <td>[66.0, False]</td>\n",
              "      <td>[263.0, False]</td>\n",
              "    </tr>\n",
              "    <tr>\n",
              "      <th>4</th>\n",
              "      <td>['539/12', False]</td>\n",
              "      <td>[528.5, False]</td>\n",
              "      <td>[4510.0, True]</td>\n",
              "      <td>[94.0, False]</td>\n",
              "      <td>[88.5, False]</td>\n",
              "      <td>[263.0, False]</td>\n",
              "    </tr>\n",
              "    <tr>\n",
              "      <th>...</th>\n",
              "      <td>...</td>\n",
              "      <td>...</td>\n",
              "      <td>...</td>\n",
              "      <td>...</td>\n",
              "      <td>...</td>\n",
              "      <td>...</td>\n",
              "    </tr>\n",
              "    <tr>\n",
              "      <th>331</th>\n",
              "      <td>[nan, False]</td>\n",
              "      <td>[231.0, False]</td>\n",
              "      <td>[2071.0, True]</td>\n",
              "      <td>[80.5, False]</td>\n",
              "      <td>[103.0, False]</td>\n",
              "      <td>[91.0, False]</td>\n",
              "    </tr>\n",
              "    <tr>\n",
              "      <th>332</th>\n",
              "      <td>['MDR 54/16 cul', False]</td>\n",
              "      <td>[293.0, False]</td>\n",
              "      <td>[2044.0, True]</td>\n",
              "      <td>[90.0, False]</td>\n",
              "      <td>[96.0, False]</td>\n",
              "      <td>[103.5, False]</td>\n",
              "    </tr>\n",
              "    <tr>\n",
              "      <th>333</th>\n",
              "      <td>[nan, False]</td>\n",
              "      <td>[249.0, False]</td>\n",
              "      <td>[2166.0, True]</td>\n",
              "      <td>[64.0, False]</td>\n",
              "      <td>[128.0, False]</td>\n",
              "      <td>[116.0, False]</td>\n",
              "    </tr>\n",
              "    <tr>\n",
              "      <th>334</th>\n",
              "      <td>['MDR 73/16 cul', False]</td>\n",
              "      <td>[338.0, False]</td>\n",
              "      <td>[159.5, False]</td>\n",
              "      <td>[1490.0, True]</td>\n",
              "      <td>[520.0, False]</td>\n",
              "      <td>[253.0, False]</td>\n",
              "    </tr>\n",
              "    <tr>\n",
              "      <th>335</th>\n",
              "      <td>[nan, False]</td>\n",
              "      <td>[377.0, False]</td>\n",
              "      <td>[120.0, False]</td>\n",
              "      <td>[1406.0, True]</td>\n",
              "      <td>[504.5, False]</td>\n",
              "      <td>[284.0, False]</td>\n",
              "    </tr>\n",
              "  </tbody>\n",
              "</table>\n",
              "<p>336 rows × 6 columns</p>\n",
              "</div>"
            ],
            "text/plain": [
              "                    Sample ID  ... 306 emB ATT 11-25-13 (78)\n",
              "0           ['474/12', False]  ...            [263.0, False]\n",
              "1                ['↓', False]  ...            [263.0, False]\n",
              "2           ['497/12', False]  ...            [263.0, False]\n",
              "3                ['↓', False]  ...            [263.0, False]\n",
              "4           ['539/12', False]  ...            [263.0, False]\n",
              "..                        ...  ...                       ...\n",
              "331              [nan, False]  ...             [91.0, False]\n",
              "332  ['MDR 54/16 cul', False]  ...            [103.5, False]\n",
              "333              [nan, False]  ...            [116.0, False]\n",
              "334  ['MDR 73/16 cul', False]  ...            [253.0, False]\n",
              "335              [nan, False]  ...            [284.0, False]\n",
              "\n",
              "[336 rows x 6 columns]"
            ]
          },
          "metadata": {
            "tags": []
          },
          "execution_count": 8
        }
      ]
    },
    {
      "cell_type": "markdown",
      "metadata": {
        "id": "ul6e6_zFFbxG"
      },
      "source": [
        "## *EDA*\n",
        "---"
      ]
    },
    {
      "cell_type": "code",
      "metadata": {
        "id": "bKaz9wd6FmQy"
      },
      "source": [
        "def change_dtype(value):\n",
        "    try:\n",
        "        return float(value.value[0])\n",
        "    except:\n",
        "        return float(value)\n",
        "\n",
        "def trim(value):\n",
        "  for i in value.columns:\n",
        "    value.loc[:, i] = value[i].apply(change_dtype)\n",
        "  return value\n",
        "\n",
        "\n",
        "trimmed_idf = idf.copy()\n",
        "trimmed_idf = trimmed_idf.drop(columns=[' Sample ID'])\n",
        "trimmed_idf = trim(trimmed_idf)\n",
        "\n",
        "trimmed_rdf = rdf.copy()\n",
        "trimmed_rdf = trimmed_rdf.drop(columns=[' Sample ID'])\n",
        "trimmed_rdf = trim(trimmed_rdf)\n",
        "\n",
        "trimmed_sdf = sdf.copy()\n",
        "trimmed_sdf = trimmed_sdf.drop(columns=[' Sample ID'])\n",
        "trimmed_sdf = trim(trimmed_sdf)\n",
        "\n",
        "trimmed_edf = edf.copy()\n",
        "trimmed_edf = trimmed_edf.drop(columns=[' Sample ID'])\n",
        "trimmed_edf = trim(trimmed_edf)"
      ],
      "execution_count": null,
      "outputs": []
    },
    {
      "cell_type": "code",
      "metadata": {
        "id": "PWU5_pVIzuxM",
        "colab": {
          "base_uri": "https://localhost:8080/",
          "height": 282
        },
        "outputId": "41e4a9ea-b9a8-4c12-da8f-006bb8a52035"
      },
      "source": [
        "trimmed_idf.boxplot()"
      ],
      "execution_count": null,
      "outputs": [
        {
          "output_type": "execute_result",
          "data": {
            "text/plain": [
              "<matplotlib.axes._subplots.AxesSubplot at 0x7f422ed69f28>"
            ]
          },
          "metadata": {
            "tags": []
          },
          "execution_count": 10
        },
        {
          "output_type": "display_data",
          "data": {
            "image/png": "[encoded data removed]",
            "text/plain": [
              "<Figure size 432x288 with 1 Axes>"
            ]
          },
          "metadata": {
            "tags": [],
            "needs_background": "light"
          }
        }
      ]
    },
    {
      "cell_type": "code",
      "metadata": {
        "id": "vj1vM53r0Bqb",
        "colab": {
          "base_uri": "https://localhost:8080/",
          "height": 282
        },
        "outputId": "1a293ad7-c322-489e-e2cf-bd39b2ec6561"
      },
      "source": [
        "trimmed_rdf.boxplot()"
      ],
      "execution_count": null,
      "outputs": [
        {
          "output_type": "execute_result",
          "data": {
            "text/plain": [
              "<matplotlib.axes._subplots.AxesSubplot at 0x7f422ec36978>"
            ]
          },
          "metadata": {
            "tags": []
          },
          "execution_count": 11
        },
        {
          "output_type": "display_data",
          "data": {
            "image/png": "[encoded data removed]",
            "text/plain": [
              "<Figure size 432x288 with 1 Axes>"
            ]
          },
          "metadata": {
            "tags": [],
            "needs_background": "light"
          }
        }
      ]
    },
    {
      "cell_type": "code",
      "metadata": {
        "id": "By85nOIh0Hp8",
        "colab": {
          "base_uri": "https://localhost:8080/",
          "height": 282
        },
        "outputId": "b7915c66-fdb2-4349-aebe-14b560647ba6"
      },
      "source": [
        "trimmed_sdf.boxplot()"
      ],
      "execution_count": null,
      "outputs": [
        {
          "output_type": "execute_result",
          "data": {
            "text/plain": [
              "<matplotlib.axes._subplots.AxesSubplot at 0x7f422ea2c668>"
            ]
          },
          "metadata": {
            "tags": []
          },
          "execution_count": 12
        },
        {
          "output_type": "display_data",
          "data": {
            "image/png": "[encoded data removed]",
            "text/plain": [
              "<Figure size 432x288 with 1 Axes>"
            ]
          },
          "metadata": {
            "tags": [],
            "needs_background": "light"
          }
        }
      ]
    },
    {
      "cell_type": "code",
      "metadata": {
        "id": "_TjgUwvO0Kl7",
        "colab": {
          "base_uri": "https://localhost:8080/",
          "height": 282
        },
        "outputId": "a905249a-f1ab-47f8-a1d2-55be61945550"
      },
      "source": [
        "trimmed_edf.boxplot()"
      ],
      "execution_count": null,
      "outputs": [
        {
          "output_type": "execute_result",
          "data": {
            "text/plain": [
              "<matplotlib.axes._subplots.AxesSubplot at 0x7f422f44a9e8>"
            ]
          },
          "metadata": {
            "tags": []
          },
          "execution_count": 13
        },
        {
          "output_type": "display_data",
          "data": {
            "image/png": "[encoded data removed]",
            "text/plain": [
              "<Figure size 432x288 with 1 Axes>"
            ]
          },
          "metadata": {
            "tags": [],
            "needs_background": "light"
          }
        }
      ]
    },
    {
      "cell_type": "code",
      "metadata": {
        "id": "OZwloWno0FnG",
        "colab": {
          "base_uri": "https://localhost:8080/",
          "height": 1000
        },
        "outputId": "1772dcc7-22b3-4d94-baba-f32d7b186e0d"
      },
      "source": [
        "import matplotlib.pyplot as plt\n",
        "fig = plt.figure(figsize = (15,20))\n",
        "ax = fig.gca()\n",
        "trimmed_idf.hist(ax=ax)"
      ],
      "execution_count": null,
      "outputs": [
        {
          "output_type": "stream",
          "text": [
            "/usr/local/lib/python3.6/dist-packages/ipykernel_launcher.py:4: UserWarning:To output multiple subplots, the figure containing the passed axes is being cleared\n"
          ],
          "name": "stderr"
        },
        {
          "output_type": "execute_result",
          "data": {
            "text/plain": [
              "array([[<matplotlib.axes._subplots.AxesSubplot object at 0x7f422f0d7ac8>,\n",
              "        <matplotlib.axes._subplots.AxesSubplot object at 0x7f422f3a4358>,\n",
              "        <matplotlib.axes._subplots.AxesSubplot object at 0x7f422f2955c0>],\n",
              "       [<matplotlib.axes._subplots.AxesSubplot object at 0x7f422f28c828>,\n",
              "        <matplotlib.axes._subplots.AxesSubplot object at 0x7f422f30de80>,\n",
              "        <matplotlib.axes._subplots.AxesSubplot object at 0x7f422f24c128>],\n",
              "       [<matplotlib.axes._subplots.AxesSubplot object at 0x7f422f1f7390>,\n",
              "        <matplotlib.axes._subplots.AxesSubplot object at 0x7f422f1395c0>,\n",
              "        <matplotlib.axes._subplots.AxesSubplot object at 0x7f422f139630>]],\n",
              "      dtype=object)"
            ]
          },
          "metadata": {
            "tags": []
          },
          "execution_count": 14
        },
        {
          "output_type": "display_data",
          "data": {
            "image/png": "[encoded data removed]",
            "text/plain": [
              "<Figure size 1080x1440 with 9 Axes>"
            ]
          },
          "metadata": {
            "tags": [],
            "needs_background": "light"
          }
        }
      ]
    },
    {
      "cell_type": "code",
      "metadata": {
        "id": "1qN04Y130PqG",
        "colab": {
          "base_uri": "https://localhost:8080/",
          "height": 1000
        },
        "outputId": "8d594379-9401-4536-f4b3-9ce477c013af"
      },
      "source": [
        "fig = plt.figure(figsize = (15,20))\n",
        "ax = fig.gca()\n",
        "trimmed_rdf.hist(ax=ax)"
      ],
      "execution_count": null,
      "outputs": [
        {
          "output_type": "stream",
          "text": [
            "/usr/local/lib/python3.6/dist-packages/ipykernel_launcher.py:3: UserWarning:To output multiple subplots, the figure containing the passed axes is being cleared\n"
          ],
          "name": "stderr"
        },
        {
          "output_type": "execute_result",
          "data": {
            "text/plain": [
              "array([[<matplotlib.axes._subplots.AxesSubplot object at 0x7fd14633cc88>,\n",
              "        <matplotlib.axes._subplots.AxesSubplot object at 0x7fd146298be0>,\n",
              "        <matplotlib.axes._subplots.AxesSubplot object at 0x7fd14624af60>,\n",
              "        <matplotlib.axes._subplots.AxesSubplot object at 0x7fd146207320>],\n",
              "       [<matplotlib.axes._subplots.AxesSubplot object at 0x7fd1461b96a0>,\n",
              "        <matplotlib.axes._subplots.AxesSubplot object at 0x7fd14616d240>,\n",
              "        <matplotlib.axes._subplots.AxesSubplot object at 0x7fd14619d5c0>,\n",
              "        <matplotlib.axes._subplots.AxesSubplot object at 0x7fd146150908>],\n",
              "       [<matplotlib.axes._subplots.AxesSubplot object at 0x7fd146150978>,\n",
              "        <matplotlib.axes._subplots.AxesSubplot object at 0x7fd1460c3080>,\n",
              "        <matplotlib.axes._subplots.AxesSubplot object at 0x7fd146074400>,\n",
              "        <matplotlib.axes._subplots.AxesSubplot object at 0x7fd146023780>],\n",
              "       [<matplotlib.axes._subplots.AxesSubplot object at 0x7fd146054b00>,\n",
              "        <matplotlib.axes._subplots.AxesSubplot object at 0x7fd146007e80>,\n",
              "        <matplotlib.axes._subplots.AxesSubplot object at 0x7fd145fc5240>,\n",
              "        <matplotlib.axes._subplots.AxesSubplot object at 0x7fd145f765c0>],\n",
              "       [<matplotlib.axes._subplots.AxesSubplot object at 0x7fd145f289b0>,\n",
              "        <matplotlib.axes._subplots.AxesSubplot object at 0x7fd145f5bc88>,\n",
              "        <matplotlib.axes._subplots.AxesSubplot object at 0x7fd145f0ffd0>,\n",
              "        <matplotlib.axes._subplots.AxesSubplot object at 0x7fd145ece3c8>]],\n",
              "      dtype=object)"
            ]
          },
          "metadata": {
            "tags": []
          },
          "execution_count": 13
        },
        {
          "output_type": "display_data",
          "data": {
            "image/png": "[encoded data removed]",
            "text/plain": [
              "<Figure size 1080x1440 with 20 Axes>"
            ]
          },
          "metadata": {
            "tags": [],
            "needs_background": "light"
          }
        }
      ]
    },
    {
      "cell_type": "code",
      "metadata": {
        "id": "bzShvAyw0Q-y",
        "colab": {
          "base_uri": "https://localhost:8080/",
          "height": 1000
        },
        "outputId": "1e1c9aae-967b-4d25-9448-daad2be8ba64"
      },
      "source": [
        "fig = plt.figure(figsize = (15,20))\n",
        "ax = fig.gca()\n",
        "trimmed_sdf.hist(ax=ax)"
      ],
      "execution_count": null,
      "outputs": [
        {
          "output_type": "stream",
          "text": [
            "/usr/local/lib/python3.6/dist-packages/ipykernel_launcher.py:3: UserWarning:To output multiple subplots, the figure containing the passed axes is being cleared\n"
          ],
          "name": "stderr"
        },
        {
          "output_type": "execute_result",
          "data": {
            "text/plain": [
              "array([[<matplotlib.axes._subplots.AxesSubplot object at 0x7fd145b844a8>,\n",
              "        <matplotlib.axes._subplots.AxesSubplot object at 0x7fd1441f29b0>,\n",
              "        <matplotlib.axes._subplots.AxesSubplot object at 0x7fd14419dd30>],\n",
              "       [<matplotlib.axes._subplots.AxesSubplot object at 0x7fd14415e0f0>,\n",
              "        <matplotlib.axes._subplots.AxesSubplot object at 0x7fd14418f470>,\n",
              "        <matplotlib.axes._subplots.AxesSubplot object at 0x7fd1441420f0>],\n",
              "       [<matplotlib.axes._subplots.AxesSubplot object at 0x7fd1440f5470>,\n",
              "        <matplotlib.axes._subplots.AxesSubplot object at 0x7fd1440a77b8>,\n",
              "        <matplotlib.axes._subplots.AxesSubplot object at 0x7fd1440a7828>]],\n",
              "      dtype=object)"
            ]
          },
          "metadata": {
            "tags": []
          },
          "execution_count": 14
        },
        {
          "output_type": "display_data",
          "data": {
            "image/png": "[encoded data removed]",
            "text/plain": [
              "<Figure size 1080x1440 with 9 Axes>"
            ]
          },
          "metadata": {
            "tags": [],
            "needs_background": "light"
          }
        }
      ]
    },
    {
      "cell_type": "code",
      "metadata": {
        "id": "c0aMU29g0R2-",
        "colab": {
          "base_uri": "https://localhost:8080/",
          "height": 1000
        },
        "outputId": "0e20c57a-fb7a-402b-91ae-c7cac78cd62c"
      },
      "source": [
        "fig = plt.figure(figsize = (15,20))\n",
        "ax = fig.gca()\n",
        "trimmed_edf.hist(ax=ax)"
      ],
      "execution_count": null,
      "outputs": [
        {
          "output_type": "stream",
          "text": [
            "/usr/local/lib/python3.6/dist-packages/ipykernel_launcher.py:3: UserWarning:To output multiple subplots, the figure containing the passed axes is being cleared\n"
          ],
          "name": "stderr"
        },
        {
          "output_type": "execute_result",
          "data": {
            "text/plain": [
              "array([[<matplotlib.axes._subplots.AxesSubplot object at 0x7fd14403f978>,\n",
              "        <matplotlib.axes._subplots.AxesSubplot object at 0x7fd145a7afd0>],\n",
              "       [<matplotlib.axes._subplots.AxesSubplot object at 0x7fd145a77208>,\n",
              "        <matplotlib.axes._subplots.AxesSubplot object at 0x7fd145a897b8>],\n",
              "       [<matplotlib.axes._subplots.AxesSubplot object at 0x7fd145cd21d0>,\n",
              "        <matplotlib.axes._subplots.AxesSubplot object at 0x7fd143e4ea90>]],\n",
              "      dtype=object)"
            ]
          },
          "metadata": {
            "tags": []
          },
          "execution_count": 15
        },
        {
          "output_type": "display_data",
          "data": {
            "image/png": "[encoded data removed]",
            "text/plain": [
              "<Figure size 1080x1440 with 6 Axes>"
            ]
          },
          "metadata": {
            "tags": [],
            "needs_background": "light"
          }
        }
      ]
    },
    {
      "cell_type": "code",
      "metadata": {
        "id": "wjcbdeBIAE1b"
      },
      "source": [
        "import statistics\n",
        "\n",
        "def calc_stats(value):\n",
        "  results_df = pd.DataFrame(columns=['Amino Acid', 'Expressed Mean', 'Expressed Median', 'Expressed Std Dev', 'Not Expressed Mean', 'Not Expressed Median', 'Not Expressed Std Dev'])\n",
        "  expressed = []\n",
        "  notexpressed = []\n",
        "  for i in value.columns:\n",
        "    sumExpressed = 0\n",
        "    countExpressed = 0\n",
        "    sumNotExpressed = 0\n",
        "    countNotExpressed =0\n",
        "    meanExpressed = 0\n",
        "    meanNotExpressed =0\n",
        "    for j in value[i]:\n",
        "      try:\n",
        "        if (j.value[1] == True):\n",
        "          expressed.append(j.value[0])\n",
        "          sumExpressed=sumExpressed+ j.value[0]\n",
        "          countExpressed = countExpressed + 1\n",
        "        if (j.value[1] == False):\n",
        "          notexpressed.append(j.value[0])\n",
        "          sumNotExpressed=sumNotExpressed+j.value[0]\n",
        "          countNotExpressed = countNotExpressed+1\n",
        "      except:\n",
        "        continue\n",
        "    if (countExpressed !=0):\n",
        "      meanExpressed = sumExpressed/countExpressed\n",
        "    if (countNotExpressed !=0):\n",
        "      meanNotExpressed = sumNotExpressed/countNotExpressed\n",
        "    medianExpressed = statistics.median(expressed)\n",
        "    stdevExpressed = statistics.stdev(expressed)\n",
        "    medianNotExpressed = statistics.median(notexpressed)\n",
        "    stdevNotExpressed = statistics.stdev(notexpressed)\n",
        "    results_df = results_df.append({'Amino Acid': i, 'Expressed Mean': meanExpressed, 'Expressed Median': medianExpressed,'Expressed Std Dev':stdevExpressed,\n",
        "                                    'Not Expressed Mean': meanNotExpressed, 'Not Expressed Median': medianNotExpressed, 'Not Expressed Std Dev':stdevNotExpressed}, ignore_index=True)\n",
        "  return results_df\n",
        "\n",
        "temp_idf = idf.copy()\n",
        "temp_idf = temp_idf.drop(columns=[' Sample ID'])\n",
        "temp_rdf = rdf.copy()\n",
        "temp_rdf = temp_rdf.drop(columns=[' Sample ID'])\n",
        "temp_sdf = sdf.copy()\n",
        "temp_sdf = temp_sdf.drop(columns=[' Sample ID'])\n",
        "temp_edf = edf.copy()\n",
        "temp_edf = temp_edf.drop(columns=[' Sample ID'])\n",
        "idf_stats_df = calc_stats((temp_idf))\n",
        "rdf_stats_df = calc_stats(temp_rdf)\n",
        "sdf_stats_df = calc_stats(temp_sdf)\n",
        "edf_stats_df = calc_stats(temp_edf)"
      ],
      "execution_count": null,
      "outputs": []
    },
    {
      "cell_type": "code",
      "metadata": {
        "colab": {
          "base_uri": "https://localhost:8080/",
          "height": 501
        },
        "id": "7ZfUtsHm88lZ",
        "outputId": "31bc9042-684e-4975-c2f7-5674ef16c41a"
      },
      "source": [
        "print(\"Isoniazid\")\n",
        "idf_stats_df"
      ],
      "execution_count": null,
      "outputs": [
        {
          "output_type": "stream",
          "text": [
            "Isoniazid\n"
          ],
          "name": "stdout"
        },
        {
          "output_type": "execute_result",
          "data": {
            "text/html": [
              "<div>\n",
              "<style scoped>\n",
              "    .dataframe tbody tr th:only-of-type {\n",
              "        vertical-align: middle;\n",
              "    }\n",
              "\n",
              "    .dataframe tbody tr th {\n",
              "        vertical-align: top;\n",
              "    }\n",
              "\n",
              "    .dataframe thead th {\n",
              "        text-align: right;\n",
              "    }\n",
              "</style>\n",
              "<table border=\"1\" class=\"dataframe\">\n",
              "  <thead>\n",
              "    <tr style=\"text-align: right;\">\n",
              "      <th></th>\n",
              "      <th>Amino Acid</th>\n",
              "      <th>Expressed Mean</th>\n",
              "      <th>Expressed Median</th>\n",
              "      <th>Expressed Std Dev</th>\n",
              "      <th>Not Expressed Mean</th>\n",
              "      <th>Not Expressed Median</th>\n",
              "      <th>Not Expressed Std Dev</th>\n",
              "    </tr>\n",
              "  </thead>\n",
              "  <tbody>\n",
              "    <tr>\n",
              "      <th>0</th>\n",
              "      <td>132 katG 315 Ser 8/10/09</td>\n",
              "      <td>4109.029412</td>\n",
              "      <td>4780.50</td>\n",
              "      <td>1824.818453</td>\n",
              "      <td>215.427239</td>\n",
              "      <td>202.00</td>\n",
              "      <td>79.323729</td>\n",
              "    </tr>\n",
              "    <tr>\n",
              "      <th>1</th>\n",
              "      <td>133 katG 315 Thr 8/10/09</td>\n",
              "      <td>3296.077830</td>\n",
              "      <td>3458.50</td>\n",
              "      <td>1513.343653</td>\n",
              "      <td>179.794355</td>\n",
              "      <td>185.50</td>\n",
              "      <td>96.747919</td>\n",
              "    </tr>\n",
              "    <tr>\n",
              "      <th>2</th>\n",
              "      <td>102 katG 315 Arg 3/25/09</td>\n",
              "      <td>3354.410000</td>\n",
              "      <td>3431.00</td>\n",
              "      <td>1425.289392</td>\n",
              "      <td>155.867133</td>\n",
              "      <td>157.00</td>\n",
              "      <td>102.602893</td>\n",
              "    </tr>\n",
              "    <tr>\n",
              "      <th>3</th>\n",
              "      <td>104 katG 315 ile 10/19/09</td>\n",
              "      <td>0.000000</td>\n",
              "      <td>3431.00</td>\n",
              "      <td>1425.289392</td>\n",
              "      <td>168.538690</td>\n",
              "      <td>157.00</td>\n",
              "      <td>96.289588</td>\n",
              "    </tr>\n",
              "    <tr>\n",
              "      <th>4</th>\n",
              "      <td>105 katG 315 Gly 10/19/09</td>\n",
              "      <td>0.000000</td>\n",
              "      <td>3431.00</td>\n",
              "      <td>1425.289392</td>\n",
              "      <td>191.129464</td>\n",
              "      <td>153.00</td>\n",
              "      <td>119.646001</td>\n",
              "    </tr>\n",
              "    <tr>\n",
              "      <th>5</th>\n",
              "      <td>106 katG 315 Asn 3/25/09</td>\n",
              "      <td>4101.750000</td>\n",
              "      <td>3435.50</td>\n",
              "      <td>1421.818820</td>\n",
              "      <td>237.411677</td>\n",
              "      <td>157.25</td>\n",
              "      <td>125.403381</td>\n",
              "    </tr>\n",
              "    <tr>\n",
              "      <th>6</th>\n",
              "      <td>315 katG Thr 5/2009 (2)</td>\n",
              "      <td>2265.875000</td>\n",
              "      <td>3426.75</td>\n",
              "      <td>1419.409980</td>\n",
              "      <td>171.034639</td>\n",
              "      <td>156.00</td>\n",
              "      <td>117.264634</td>\n",
              "    </tr>\n",
              "    <tr>\n",
              "      <th>7</th>\n",
              "      <td>143 inhA -15C 11/1/11</td>\n",
              "      <td>3493.291118</td>\n",
              "      <td>3286.50</td>\n",
              "      <td>1287.568934</td>\n",
              "      <td>268.171875</td>\n",
              "      <td>156.00</td>\n",
              "      <td>122.373952</td>\n",
              "    </tr>\n",
              "    <tr>\n",
              "      <th>8</th>\n",
              "      <td>145 inhA -15T 11/1/11</td>\n",
              "      <td>4348.390625</td>\n",
              "      <td>3333.50</td>\n",
              "      <td>1300.254854</td>\n",
              "      <td>313.090461</td>\n",
              "      <td>168.00</td>\n",
              "      <td>140.006700</td>\n",
              "    </tr>\n",
              "  </tbody>\n",
              "</table>\n",
              "</div>"
            ],
            "text/plain": [
              "                  Amino Acid  ...  Not Expressed Std Dev\n",
              "0   132 katG 315 Ser 8/10/09  ...              79.323729\n",
              "1   133 katG 315 Thr 8/10/09  ...              96.747919\n",
              "2   102 katG 315 Arg 3/25/09  ...             102.602893\n",
              "3  104 katG 315 ile 10/19/09  ...              96.289588\n",
              "4  105 katG 315 Gly 10/19/09  ...             119.646001\n",
              "5   106 katG 315 Asn 3/25/09  ...             125.403381\n",
              "6    315 katG Thr 5/2009 (2)  ...             117.264634\n",
              "7      143 inhA -15C 11/1/11  ...             122.373952\n",
              "8      145 inhA -15T 11/1/11  ...             140.006700\n",
              "\n",
              "[9 rows x 7 columns]"
            ]
          },
          "metadata": {
            "tags": []
          },
          "execution_count": 17
        }
      ]
    },
    {
      "cell_type": "code",
      "metadata": {
        "colab": {
          "base_uri": "https://localhost:8080/",
          "height": 906
        },
        "id": "G3vL85zO9BAA",
        "outputId": "ea1dfb0b-7715-4523-87f0-5f1c61fd967f"
      },
      "source": [
        "print(\"Rifampicin\")\n",
        "rdf_stats_df"
      ],
      "execution_count": null,
      "outputs": [
        {
          "output_type": "stream",
          "text": [
            "Rifampicin\n"
          ],
          "name": "stdout"
        },
        {
          "output_type": "execute_result",
          "data": {
            "text/html": [
              "<div>\n",
              "<style scoped>\n",
              "    .dataframe tbody tr th:only-of-type {\n",
              "        vertical-align: middle;\n",
              "    }\n",
              "\n",
              "    .dataframe tbody tr th {\n",
              "        vertical-align: top;\n",
              "    }\n",
              "\n",
              "    .dataframe thead th {\n",
              "        text-align: right;\n",
              "    }\n",
              "</style>\n",
              "<table border=\"1\" class=\"dataframe\">\n",
              "  <thead>\n",
              "    <tr style=\"text-align: right;\">\n",
              "      <th></th>\n",
              "      <th>Amino Acid</th>\n",
              "      <th>Expressed Mean</th>\n",
              "      <th>Expressed Median</th>\n",
              "      <th>Expressed Std Dev</th>\n",
              "      <th>Not Expressed Mean</th>\n",
              "      <th>Not Expressed Median</th>\n",
              "      <th>Not Expressed Std Dev</th>\n",
              "    </tr>\n",
              "  </thead>\n",
              "  <tbody>\n",
              "    <tr>\n",
              "      <th>0</th>\n",
              "      <td>162 rpoB 516 Asp 6//6/11</td>\n",
              "      <td>1344.036458</td>\n",
              "      <td>1155.5</td>\n",
              "      <td>822.177894</td>\n",
              "      <td>235.479167</td>\n",
              "      <td>208.75</td>\n",
              "      <td>139.097316</td>\n",
              "    </tr>\n",
              "    <tr>\n",
              "      <th>1</th>\n",
              "      <td>115 rpoB 516 Tyr 11/10/11</td>\n",
              "      <td>757.972222</td>\n",
              "      <td>1139.0</td>\n",
              "      <td>817.752534</td>\n",
              "      <td>136.058176</td>\n",
              "      <td>124.00</td>\n",
              "      <td>107.616020</td>\n",
              "    </tr>\n",
              "    <tr>\n",
              "      <th>2</th>\n",
              "      <td>118 rpoB 516 Val 6/15/09</td>\n",
              "      <td>799.704545</td>\n",
              "      <td>1081.5</td>\n",
              "      <td>812.314550</td>\n",
              "      <td>156.089172</td>\n",
              "      <td>125.00</td>\n",
              "      <td>105.910135</td>\n",
              "    </tr>\n",
              "    <tr>\n",
              "      <th>3</th>\n",
              "      <td>121 rpoB 516 Glu 8/18/11</td>\n",
              "      <td>650.333333</td>\n",
              "      <td>1076.5</td>\n",
              "      <td>811.325435</td>\n",
              "      <td>193.801515</td>\n",
              "      <td>135.00</td>\n",
              "      <td>120.004302</td>\n",
              "    </tr>\n",
              "    <tr>\n",
              "      <th>4</th>\n",
              "      <td>169 rpoB 516 Gly 9/2/11</td>\n",
              "      <td>788.625000</td>\n",
              "      <td>1076.5</td>\n",
              "      <td>810.399262</td>\n",
              "      <td>233.945783</td>\n",
              "      <td>139.25</td>\n",
              "      <td>149.677481</td>\n",
              "    </tr>\n",
              "    <tr>\n",
              "      <th>5</th>\n",
              "      <td>515 and 516 ATC rpoB (28)</td>\n",
              "      <td>354.083333</td>\n",
              "      <td>1069.0</td>\n",
              "      <td>812.326262</td>\n",
              "      <td>123.289394</td>\n",
              "      <td>133.00</td>\n",
              "      <td>137.442332</td>\n",
              "    </tr>\n",
              "    <tr>\n",
              "      <th>6</th>\n",
              "      <td>515 and 516 rpoB ATT (58)</td>\n",
              "      <td>619.875000</td>\n",
              "      <td>1069.0</td>\n",
              "      <td>812.142193</td>\n",
              "      <td>124.331325</td>\n",
              "      <td>128.00</td>\n",
              "      <td>127.664741</td>\n",
              "    </tr>\n",
              "    <tr>\n",
              "      <th>7</th>\n",
              "      <td>88 rpoB 526 His 21 bp 4/4/18</td>\n",
              "      <td>NaN</td>\n",
              "      <td>687.5</td>\n",
              "      <td>NaN</td>\n",
              "      <td>192.750000</td>\n",
              "      <td>128.00</td>\n",
              "      <td>127.564347</td>\n",
              "    </tr>\n",
              "    <tr>\n",
              "      <th>8</th>\n",
              "      <td>103 rpoB 526 Asp 8/18/11</td>\n",
              "      <td>NaN</td>\n",
              "      <td>3280.0</td>\n",
              "      <td>NaN</td>\n",
              "      <td>163.940810</td>\n",
              "      <td>129.00</td>\n",
              "      <td>126.310058</td>\n",
              "    </tr>\n",
              "    <tr>\n",
              "      <th>9</th>\n",
              "      <td>135 rpoB 526 Tyr 11/10/11</td>\n",
              "      <td>NaN</td>\n",
              "      <td>3514.0</td>\n",
              "      <td>NaN</td>\n",
              "      <td>164.167192</td>\n",
              "      <td>130.00</td>\n",
              "      <td>125.301052</td>\n",
              "    </tr>\n",
              "    <tr>\n",
              "      <th>10</th>\n",
              "      <td>108 rpoB 526 Arg 8/18/11</td>\n",
              "      <td>NaN</td>\n",
              "      <td>3734.0</td>\n",
              "      <td>NaN</td>\n",
              "      <td>172.876176</td>\n",
              "      <td>131.00</td>\n",
              "      <td>127.708898</td>\n",
              "    </tr>\n",
              "    <tr>\n",
              "      <th>11</th>\n",
              "      <td>164 rpoB 526 Leu 6/1/11</td>\n",
              "      <td>NaN</td>\n",
              "      <td>3946.0</td>\n",
              "      <td>NaN</td>\n",
              "      <td>234.048287</td>\n",
              "      <td>133.00</td>\n",
              "      <td>146.047337</td>\n",
              "    </tr>\n",
              "    <tr>\n",
              "      <th>12</th>\n",
              "      <td>168 rpoB 526 Cys 9/2/11</td>\n",
              "      <td>NaN</td>\n",
              "      <td>7284.0</td>\n",
              "      <td>NaN</td>\n",
              "      <td>151.577882</td>\n",
              "      <td>133.00</td>\n",
              "      <td>142.116085</td>\n",
              "    </tr>\n",
              "    <tr>\n",
              "      <th>13</th>\n",
              "      <td>181 rpoB 526 Pro 11/9/11</td>\n",
              "      <td>NaN</td>\n",
              "      <td>7505.5</td>\n",
              "      <td>NaN</td>\n",
              "      <td>171.211838</td>\n",
              "      <td>133.50</td>\n",
              "      <td>139.128391</td>\n",
              "    </tr>\n",
              "    <tr>\n",
              "      <th>14</th>\n",
              "      <td>188 rpoB 531 ser WT 9/2/11</td>\n",
              "      <td>NaN</td>\n",
              "      <td>NaN</td>\n",
              "      <td>NaN</td>\n",
              "      <td>207.186147</td>\n",
              "      <td>136.00</td>\n",
              "      <td>138.996993</td>\n",
              "    </tr>\n",
              "    <tr>\n",
              "      <th>15</th>\n",
              "      <td>110 rpoB Cys  531 11/10/11</td>\n",
              "      <td>NaN</td>\n",
              "      <td>NaN</td>\n",
              "      <td>NaN</td>\n",
              "      <td>309.319018</td>\n",
              "      <td>137.00</td>\n",
              "      <td>172.182840</td>\n",
              "    </tr>\n",
              "    <tr>\n",
              "      <th>16</th>\n",
              "      <td>130 rpoB 531 Trp 11/14/11</td>\n",
              "      <td>NaN</td>\n",
              "      <td>NaN</td>\n",
              "      <td>NaN</td>\n",
              "      <td>821.985185</td>\n",
              "      <td>141.00</td>\n",
              "      <td>254.216261</td>\n",
              "    </tr>\n",
              "    <tr>\n",
              "      <th>17</th>\n",
              "      <td>136 rpoB 531 Leu 8/18/11</td>\n",
              "      <td>NaN</td>\n",
              "      <td>3919.0</td>\n",
              "      <td>NaN</td>\n",
              "      <td>237.471338</td>\n",
              "      <td>142.00</td>\n",
              "      <td>251.558602</td>\n",
              "    </tr>\n",
              "  </tbody>\n",
              "</table>\n",
              "</div>"
            ],
            "text/plain": [
              "                      Amino Acid  ...  Not Expressed Std Dev\n",
              "0       162 rpoB 516 Asp 6//6/11  ...             139.097316\n",
              "1      115 rpoB 516 Tyr 11/10/11  ...             107.616020\n",
              "2       118 rpoB 516 Val 6/15/09  ...             105.910135\n",
              "3       121 rpoB 516 Glu 8/18/11  ...             120.004302\n",
              "4        169 rpoB 516 Gly 9/2/11  ...             149.677481\n",
              "5      515 and 516 ATC rpoB (28)  ...             137.442332\n",
              "6      515 and 516 rpoB ATT (58)  ...             127.664741\n",
              "7   88 rpoB 526 His 21 bp 4/4/18  ...             127.564347\n",
              "8       103 rpoB 526 Asp 8/18/11  ...             126.310058\n",
              "9      135 rpoB 526 Tyr 11/10/11  ...             125.301052\n",
              "10      108 rpoB 526 Arg 8/18/11  ...             127.708898\n",
              "11       164 rpoB 526 Leu 6/1/11  ...             146.047337\n",
              "12       168 rpoB 526 Cys 9/2/11  ...             142.116085\n",
              "13      181 rpoB 526 Pro 11/9/11  ...             139.128391\n",
              "14    188 rpoB 531 ser WT 9/2/11  ...             138.996993\n",
              "15    110 rpoB Cys  531 11/10/11  ...             172.182840\n",
              "16     130 rpoB 531 Trp 11/14/11  ...             254.216261\n",
              "17      136 rpoB 531 Leu 8/18/11  ...             251.558602\n",
              "\n",
              "[18 rows x 7 columns]"
            ]
          },
          "metadata": {
            "tags": []
          },
          "execution_count": 18
        }
      ]
    },
    {
      "cell_type": "code",
      "metadata": {
        "colab": {
          "base_uri": "https://localhost:8080/",
          "height": 456
        },
        "id": "skry2C8P9ENt",
        "outputId": "6d2b794a-ae44-4c09-dc68-605a44374a28"
      },
      "source": [
        "print(\"Streptomycin\")\n",
        "sdf_stats_df"
      ],
      "execution_count": null,
      "outputs": [
        {
          "output_type": "stream",
          "text": [
            "Streptomycin\n"
          ],
          "name": "stdout"
        },
        {
          "output_type": "execute_result",
          "data": {
            "text/html": [
              "<div>\n",
              "<style scoped>\n",
              "    .dataframe tbody tr th:only-of-type {\n",
              "        vertical-align: middle;\n",
              "    }\n",
              "\n",
              "    .dataframe tbody tr th {\n",
              "        vertical-align: top;\n",
              "    }\n",
              "\n",
              "    .dataframe thead th {\n",
              "        text-align: right;\n",
              "    }\n",
              "</style>\n",
              "<table border=\"1\" class=\"dataframe\">\n",
              "  <thead>\n",
              "    <tr style=\"text-align: right;\">\n",
              "      <th></th>\n",
              "      <th>Amino Acid</th>\n",
              "      <th>Expressed Mean</th>\n",
              "      <th>Expressed Median</th>\n",
              "      <th>Expressed Std Dev</th>\n",
              "      <th>Not Expressed Mean</th>\n",
              "      <th>Not Expressed Median</th>\n",
              "      <th>Not Expressed Std Dev</th>\n",
              "    </tr>\n",
              "  </thead>\n",
              "  <tbody>\n",
              "    <tr>\n",
              "      <th>0</th>\n",
              "      <td>166 rpsL 43 Wt 8/18/11</td>\n",
              "      <td>3913.822581</td>\n",
              "      <td>3794.25</td>\n",
              "      <td>1395.175202</td>\n",
              "      <td>221.511364</td>\n",
              "      <td>202.00</td>\n",
              "      <td>94.862362</td>\n",
              "    </tr>\n",
              "    <tr>\n",
              "      <th>1</th>\n",
              "      <td>167 rpsL 43 8/18/11</td>\n",
              "      <td>2490.982955</td>\n",
              "      <td>3576.00</td>\n",
              "      <td>1476.525902</td>\n",
              "      <td>182.592742</td>\n",
              "      <td>168.00</td>\n",
              "      <td>92.728919</td>\n",
              "    </tr>\n",
              "    <tr>\n",
              "      <th>2</th>\n",
              "      <td>134 rpsL 88 11/14/2011</td>\n",
              "      <td>4643.967593</td>\n",
              "      <td>3857.50</td>\n",
              "      <td>1712.743580</td>\n",
              "      <td>201.000000</td>\n",
              "      <td>171.75</td>\n",
              "      <td>91.453455</td>\n",
              "    </tr>\n",
              "    <tr>\n",
              "      <th>3</th>\n",
              "      <td>127 rpsL 88 11/14/2011</td>\n",
              "      <td>4740.541667</td>\n",
              "      <td>3857.50</td>\n",
              "      <td>1788.293177</td>\n",
              "      <td>278.376543</td>\n",
              "      <td>200.00</td>\n",
              "      <td>194.548243</td>\n",
              "    </tr>\n",
              "    <tr>\n",
              "      <th>4</th>\n",
              "      <td>175 rrs 513A 1/23/12</td>\n",
              "      <td>1998.866129</td>\n",
              "      <td>3543.50</td>\n",
              "      <td>1952.174643</td>\n",
              "      <td>244.903846</td>\n",
              "      <td>201.00</td>\n",
              "      <td>192.030683</td>\n",
              "    </tr>\n",
              "    <tr>\n",
              "      <th>5</th>\n",
              "      <td>146 rrs 513C 2/6/2012</td>\n",
              "      <td>2515.729167</td>\n",
              "      <td>3515.25</td>\n",
              "      <td>1954.696346</td>\n",
              "      <td>151.761218</td>\n",
              "      <td>175.00</td>\n",
              "      <td>171.978931</td>\n",
              "    </tr>\n",
              "    <tr>\n",
              "      <th>6</th>\n",
              "      <td>148 rrs 516C WT 10/15/2012</td>\n",
              "      <td>3076.687879</td>\n",
              "      <td>3365.00</td>\n",
              "      <td>2013.971243</td>\n",
              "      <td>192.250000</td>\n",
              "      <td>175.00</td>\n",
              "      <td>171.516809</td>\n",
              "    </tr>\n",
              "    <tr>\n",
              "      <th>7</th>\n",
              "      <td>161 rrs 516T 10/30/2012</td>\n",
              "      <td>1439.750000</td>\n",
              "      <td>3359.25</td>\n",
              "      <td>2014.294336</td>\n",
              "      <td>221.081818</td>\n",
              "      <td>176.50</td>\n",
              "      <td>170.771040</td>\n",
              "    </tr>\n",
              "  </tbody>\n",
              "</table>\n",
              "</div>"
            ],
            "text/plain": [
              "                   Amino Acid  ...  Not Expressed Std Dev\n",
              "0      166 rpsL 43 Wt 8/18/11  ...              94.862362\n",
              "1         167 rpsL 43 8/18/11  ...              92.728919\n",
              "2      134 rpsL 88 11/14/2011  ...              91.453455\n",
              "3      127 rpsL 88 11/14/2011  ...             194.548243\n",
              "4        175 rrs 513A 1/23/12  ...             192.030683\n",
              "5       146 rrs 513C 2/6/2012  ...             171.978931\n",
              "6  148 rrs 516C WT 10/15/2012  ...             171.516809\n",
              "7     161 rrs 516T 10/30/2012  ...             170.771040\n",
              "\n",
              "[8 rows x 7 columns]"
            ]
          },
          "metadata": {
            "tags": []
          },
          "execution_count": 19
        }
      ]
    },
    {
      "cell_type": "code",
      "metadata": {
        "colab": {
          "base_uri": "https://localhost:8080/",
          "height": 321
        },
        "id": "QUupYS3e9Idj",
        "outputId": "7c013778-f3af-4ba5-dd09-c66dd5f0a60d"
      },
      "source": [
        "print(\"Ethambutol\")\n",
        "edf_stats_df"
      ],
      "execution_count": null,
      "outputs": [
        {
          "output_type": "stream",
          "text": [
            "Ethambutol\n"
          ],
          "name": "stdout"
        },
        {
          "output_type": "execute_result",
          "data": {
            "text/html": [
              "<div>\n",
              "<style scoped>\n",
              "    .dataframe tbody tr th:only-of-type {\n",
              "        vertical-align: middle;\n",
              "    }\n",
              "\n",
              "    .dataframe tbody tr th {\n",
              "        vertical-align: top;\n",
              "    }\n",
              "\n",
              "    .dataframe thead th {\n",
              "        text-align: right;\n",
              "    }\n",
              "</style>\n",
              "<table border=\"1\" class=\"dataframe\">\n",
              "  <thead>\n",
              "    <tr style=\"text-align: right;\">\n",
              "      <th></th>\n",
              "      <th>Amino Acid</th>\n",
              "      <th>Expressed Mean</th>\n",
              "      <th>Expressed Median</th>\n",
              "      <th>Expressed Std Dev</th>\n",
              "      <th>Not Expressed Mean</th>\n",
              "      <th>Not Expressed Median</th>\n",
              "      <th>Not Expressed Std Dev</th>\n",
              "    </tr>\n",
              "  </thead>\n",
              "  <tbody>\n",
              "    <tr>\n",
              "      <th>0</th>\n",
              "      <td>140 embB 306 WT 10/15/2012</td>\n",
              "      <td>1423.636667</td>\n",
              "      <td>1309.25</td>\n",
              "      <td>633.513736</td>\n",
              "      <td>407.795699</td>\n",
              "      <td>396.00</td>\n",
              "      <td>140.880201</td>\n",
              "    </tr>\n",
              "    <tr>\n",
              "      <th>1</th>\n",
              "      <td>157 embB 306 Val 10/30/2012</td>\n",
              "      <td>2258.550000</td>\n",
              "      <td>1378.50</td>\n",
              "      <td>902.284696</td>\n",
              "      <td>484.105263</td>\n",
              "      <td>393.75</td>\n",
              "      <td>355.841589</td>\n",
              "    </tr>\n",
              "    <tr>\n",
              "      <th>2</th>\n",
              "      <td>306 emB Iso ATC 5-16-13 (77)</td>\n",
              "      <td>1820.788462</td>\n",
              "      <td>1440.75</td>\n",
              "      <td>867.224984</td>\n",
              "      <td>235.147887</td>\n",
              "      <td>263.00</td>\n",
              "      <td>308.512433</td>\n",
              "    </tr>\n",
              "    <tr>\n",
              "      <th>3</th>\n",
              "      <td>126 306 embB ATA (26)</td>\n",
              "      <td>1414.526786</td>\n",
              "      <td>1407.50</td>\n",
              "      <td>811.860612</td>\n",
              "      <td>287.644643</td>\n",
              "      <td>263.00</td>\n",
              "      <td>284.804355</td>\n",
              "    </tr>\n",
              "    <tr>\n",
              "      <th>4</th>\n",
              "      <td>306 emB ATT 11-25-13 (78)</td>\n",
              "      <td>1460.950000</td>\n",
              "      <td>1405.50</td>\n",
              "      <td>802.913340</td>\n",
              "      <td>262.541411</td>\n",
              "      <td>263.00</td>\n",
              "      <td>257.173814</td>\n",
              "    </tr>\n",
              "  </tbody>\n",
              "</table>\n",
              "</div>"
            ],
            "text/plain": [
              "                     Amino Acid  ...  Not Expressed Std Dev\n",
              "0    140 embB 306 WT 10/15/2012  ...             140.880201\n",
              "1   157 embB 306 Val 10/30/2012  ...             355.841589\n",
              "2  306 emB Iso ATC 5-16-13 (77)  ...             308.512433\n",
              "3         126 306 embB ATA (26)  ...             284.804355\n",
              "4     306 emB ATT 11-25-13 (78)  ...             257.173814\n",
              "\n",
              "[5 rows x 7 columns]"
            ]
          },
          "metadata": {
            "tags": []
          },
          "execution_count": 20
        }
      ]
    },
    {
      "cell_type": "markdown",
      "metadata": {
        "id": "Er-Wkck4Fk71"
      },
      "source": [
        "## *Analysis*\n",
        "\n",
        "---"
      ]
    },
    {
      "cell_type": "code",
      "metadata": {
        "id": "2DFt9_h6FqNh"
      },
      "source": [
        "'''\n",
        "Input: column in the form of a pandas series (e.g. rdf.iloc[:, 3])\n",
        "       Please note that since the last row of the DataFrame has an error (only has\n",
        "       value and not TRUE / FALSE expression boolean), you may have to pass in \n",
        "       everything except the last column (e.g. rdf.iloc[:, 3][:-1])\n",
        "Output: a DataFrame with 2 columns (value and expression)\n",
        "        Note that rows with na are dropped. This is important to note when\n",
        "        we compare across columns\n",
        "'''\n",
        "def make_df_from_col(column):\n",
        "  col_data = []\n",
        "  for item in column:\n",
        "    # number_expression_pair = [#, TRUE] or [#, FALSE]\n",
        "    number_expression_pair = item.value\n",
        "    col_data.append(number_expression_pair)\n",
        "  return pd.DataFrame(col_data, columns = ['value', 'expression']).dropna(axis=0) "
      ],
      "execution_count": null,
      "outputs": []
    },
    {
      "cell_type": "code",
      "metadata": {
        "id": "etvyBf1RW7uh",
        "colab": {
          "base_uri": "https://localhost:8080/",
          "height": 391
        },
        "outputId": "80fb35cd-d80c-41da-a70d-6120d15bce7c"
      },
      "source": [
        "# Example of using above function\n",
        "make_df_from_col(rdf.iloc[:, 3][:-1])"
      ],
      "execution_count": null,
      "outputs": [
        {
          "output_type": "execute_result",
          "data": {
            "text/html": [
              "<div>\n",
              "<style scoped>\n",
              "    .dataframe tbody tr th:only-of-type {\n",
              "        vertical-align: middle;\n",
              "    }\n",
              "\n",
              "    .dataframe tbody tr th {\n",
              "        vertical-align: top;\n",
              "    }\n",
              "\n",
              "    .dataframe thead th {\n",
              "        text-align: right;\n",
              "    }\n",
              "</style>\n",
              "<table border=\"1\" class=\"dataframe\">\n",
              "  <thead>\n",
              "    <tr style=\"text-align: right;\">\n",
              "      <th></th>\n",
              "      <th>value</th>\n",
              "      <th>expression</th>\n",
              "    </tr>\n",
              "  </thead>\n",
              "  <tbody>\n",
              "    <tr>\n",
              "      <th>0</th>\n",
              "      <td>200.0</td>\n",
              "      <td>False</td>\n",
              "    </tr>\n",
              "    <tr>\n",
              "      <th>1</th>\n",
              "      <td>135.5</td>\n",
              "      <td>False</td>\n",
              "    </tr>\n",
              "    <tr>\n",
              "      <th>2</th>\n",
              "      <td>229.5</td>\n",
              "      <td>False</td>\n",
              "    </tr>\n",
              "    <tr>\n",
              "      <th>3</th>\n",
              "      <td>211.5</td>\n",
              "      <td>False</td>\n",
              "    </tr>\n",
              "    <tr>\n",
              "      <th>4</th>\n",
              "      <td>114.5</td>\n",
              "      <td>False</td>\n",
              "    </tr>\n",
              "    <tr>\n",
              "      <th>...</th>\n",
              "      <td>...</td>\n",
              "      <td>...</td>\n",
              "    </tr>\n",
              "    <tr>\n",
              "      <th>330</th>\n",
              "      <td>53.5</td>\n",
              "      <td>False</td>\n",
              "    </tr>\n",
              "    <tr>\n",
              "      <th>331</th>\n",
              "      <td>114.0</td>\n",
              "      <td>False</td>\n",
              "    </tr>\n",
              "    <tr>\n",
              "      <th>332</th>\n",
              "      <td>79.0</td>\n",
              "      <td>False</td>\n",
              "    </tr>\n",
              "    <tr>\n",
              "      <th>333</th>\n",
              "      <td>118.0</td>\n",
              "      <td>False</td>\n",
              "    </tr>\n",
              "    <tr>\n",
              "      <th>334</th>\n",
              "      <td>122.0</td>\n",
              "      <td>False</td>\n",
              "    </tr>\n",
              "  </tbody>\n",
              "</table>\n",
              "<p>335 rows × 2 columns</p>\n",
              "</div>"
            ],
            "text/plain": [
              "     value  expression\n",
              "0    200.0       False\n",
              "1    135.5       False\n",
              "2    229.5       False\n",
              "3    211.5       False\n",
              "4    114.5       False\n",
              "..     ...         ...\n",
              "330   53.5       False\n",
              "331  114.0       False\n",
              "332   79.0       False\n",
              "333  118.0       False\n",
              "334  122.0       False\n",
              "\n",
              "[335 rows x 2 columns]"
            ]
          },
          "metadata": {
            "tags": []
          },
          "execution_count": 8
        }
      ]
    },
    {
      "cell_type": "code",
      "metadata": {
        "id": "5aXCng8vLik8"
      },
      "source": [
        "# Split up idf, rdf, and sdf into their specific dfs\n",
        "# note that edf needs no splitting \n",
        "idf_katg = idf.iloc[:, [0] + list(range(1, 8))]\n",
        "idf_inha = idf.iloc[:, [0] + list(range(8, 10))]\n",
        "rdf_rpob1 = rdf.iloc[:, [0] + list(range(1, 8))]\n",
        "rdf_rpob2 = rdf.iloc[:, [0] + list(range(8, 15))]\n",
        "rdf_rpob3 = rdf.iloc[:, [0] + list(range(15, 19))]\n",
        "sdf_rspl = sdf.iloc[:, [0] + list(range(1, 5))]\n",
        "sdf_rrs = sdf.iloc[:, [0] + list(range(5, 9))]"
      ],
      "execution_count": null,
      "outputs": []
    },
    {
      "cell_type": "code",
      "metadata": {
        "id": "1sRIqvbbxEOZ"
      },
      "source": [
        "import math\n",
        "from sklearn.preprocessing import minmax_scale\n",
        "def TableToXAndY(Table):\n",
        "  X = []\n",
        "  Y = []\n",
        "  # Assuming the table columns all have sample IDs as the first column\n",
        "  TempTable = Table.drop(idf.columns[0],axis=1)\n",
        "  for Row in range(1,TempTable.shape[0]):\n",
        "    TempRow = []\n",
        "    TempY = []\n",
        "    SkipRow = False\n",
        "    for ColumnVal in TempTable.iloc[Row]:\n",
        "      if math.isnan(ColumnVal.value[0]):\n",
        "        SkipRow = True\n",
        "      TempRow.append(ColumnVal.value[0])\n",
        "      TempY.append(int(ColumnVal.value[1]))\n",
        "    if not SkipRow:\n",
        "      X.append(TempRow)\n",
        "      Y.append(TempY)\n",
        "\n",
        "  return [X,Y]"
      ],
      "execution_count": null,
      "outputs": []
    },
    {
      "cell_type": "code",
      "metadata": {
        "id": "_LNXvaLgHzzr"
      },
      "source": [
        "import random\n",
        "def shuffle_cols(X, Y):\n",
        "  # initialize the new X and Y matrices\n",
        "  transformed_X = []\n",
        "  transformed_Y = []\n",
        "  for row_index in range(len(X)):\n",
        "    # randomize the new indices (do i shuffle each row independent of others or do i shuffle all the same way?)\n",
        "    new_indices = random.sample(list(range(len(X[0]))), k = len(X[0]))\n",
        "    # save the original rows\n",
        "    original_X_row = X[row_index]\n",
        "    original_Y_row = Y[row_index]\n",
        "    # initialize the new rows\n",
        "    new_X_row = []\n",
        "    new_Y_row = []\n",
        "    # add to the new rows in the order specified by the new_indices list\n",
        "    for new_index in new_indices:\n",
        "      new_X_row.append(original_X_row[new_index])\n",
        "      new_Y_row.append(original_Y_row[new_index])\n",
        "\n",
        "    # add the new row to the transformed matrices \n",
        "    transformed_X.append(new_X_row)\n",
        "    transformed_Y.append(new_Y_row)\n",
        "\n",
        "  return [transformed_X, transformed_Y]   "
      ],
      "execution_count": null,
      "outputs": []
    },
    {
      "cell_type": "markdown",
      "metadata": {
        "id": "tN9A7c9YKJQ-"
      },
      "source": [
        "### Logistic Regression"
      ]
    },
    {
      "cell_type": "code",
      "metadata": {
        "id": "GL5Zo0vUNoO-"
      },
      "source": [
        "def determine_expressed_cols(patient_data):\n",
        "  # save all the colums in the row\n",
        "  cols = []\n",
        "  for container in patient_data.index.to_list():\n",
        "    cols.append(container.value)\n",
        "\n",
        "  # get the expressed columns\n",
        "  expressed_cols = []\n",
        "  for column_index in range(len(cols)):\n",
        "    if cols[column_index] != 'Sample ID' and patient_data[column_index].value[1] == True:\n",
        "      expressed_cols.append(cols[column_index])\n",
        "\n",
        "  # return the expressed column as __ & __ ...\n",
        "  return ' & '.join(expressed_cols)  \n",
        "\n",
        "def replace_with_only_value(df_element):\n",
        "  # return just the number and not the expressed value\n",
        "  return df_element.value[0]\n",
        "  \n",
        "\n",
        "def reorganize_data_for_row_analysis(df):\n",
        "  df_copy = df.copy()\n",
        "  df_copy['Expressed'] = df_copy.apply(determine_expressed_cols, axis = 1)\n",
        "  df_copy.loc[:, df_copy.columns != 'Expressed'] = df_copy.loc[:, df_copy.columns != 'Expressed'].applymap(replace_with_only_value)\n",
        "  df_copy['Expressed'] = df_copy['Expressed'].astype(dtype='string')\n",
        "  return df_copy"
      ],
      "execution_count": null,
      "outputs": []
    },
    {
      "cell_type": "code",
      "metadata": {
        "id": "-BT9wQxXNYRL"
      },
      "source": [
        "dataframes_dict = {\n",
        "    'idf_katg': reorganize_data_for_row_analysis(idf_katg),\n",
        "    'idf_inha': reorganize_data_for_row_analysis(idf_inha),\n",
        "    'rdf_rpob1': reorganize_data_for_row_analysis(rdf_rpob1),\n",
        "    'rdf_rpob2': reorganize_data_for_row_analysis(rdf_rpob2),\n",
        "    'rdf_rpob3': reorganize_data_for_row_analysis(rdf_rpob3),\n",
        "    'sdf_rspl': reorganize_data_for_row_analysis(sdf_rspl),\n",
        "    'sdf_rrs': reorganize_data_for_row_analysis(sdf_rrs),\n",
        "}"
      ],
      "execution_count": null,
      "outputs": []
    },
    {
      "cell_type": "code",
      "metadata": {
        "colab": {
          "base_uri": "https://localhost:8080/"
        },
        "id": "ShjH_vouNwJ8",
        "outputId": "3486c082-7862-44b7-d03e-cf0915a2b757"
      },
      "source": [
        "from sklearn.linear_model import LogisticRegression\n",
        "from sklearn.preprocessing import StandardScaler\n",
        "from sklearn.metrics import accuracy_score\n",
        "\n",
        "lr_accuracy_sums = 0\n",
        "lr_models_and_data_dict = {}\n",
        "for drug in dataframes_dict:\n",
        "  # GET THE DATAFRAME ASSOCIATED WITH THE DRUG\n",
        "  current_df = dataframes_dict[drug]\n",
        "  \n",
        "  # DROP THE NA VALUES (VERY FEW)\n",
        "  current_df = current_df.dropna(axis = 0)\n",
        "  \n",
        "  # GET THE X AND Y AND SPLIT DATA\n",
        "  X = current_df.loc[:, (current_df.columns != 'Expressed') & (current_df.columns != ' Sample ID')]\n",
        "  Y = current_df['Expressed'].copy()\n",
        "  X_train, X_test, Y_train, Y_test = train_test_split(X, Y, train_size = 0.7)\n",
        "\n",
        "  # SCALE THE DATA\n",
        "  std_scaler = StandardScaler()\n",
        "  std_scaler.fit(X_train)\n",
        "  X_train_transformed = std_scaler.transform(X_train)\n",
        "  X_test_transformed = std_scaler.transform(X_test)\n",
        "\n",
        "  # FIT THE MODEL\n",
        "  lr_model = LogisticRegression(C = 10000, fit_intercept = True, max_iter = 1000000)\n",
        "  lr_model.fit(X_train_transformed, Y_train)\n",
        "  Y_pred = lr_model.predict(X_test_transformed)\n",
        "\n",
        "  # GET THE ACCURACY SCORE\n",
        "  accuracy = accuracy_score(Y_test, Y_pred)\n",
        "  print('{} accuracy: {}'.format(drug, accuracy))\n",
        "\n",
        "  # SAVE THE MODEL DATA\n",
        "  lr_models_and_data_dict[drug] = {}\n",
        "  lr_models_and_data_dict[drug]['model'] = lr_model\n",
        "  lr_models_and_data_dict[drug]['scaler'] = std_scaler\n",
        "  lr_models_and_data_dict[drug]['accuracy score'] = accuracy\n",
        "\n",
        "  # ADD THE ACCURACY TO ACCURACY SUMS\n",
        "  lr_accuracy_sums += accuracy\n",
        "  \n",
        "lr_average_accuracy = lr_accuracy_sums / len(dataframes_dict)\n",
        "print('Average accuracy:', lr_average_accuracy)"
      ],
      "execution_count": null,
      "outputs": [
        {
          "output_type": "stream",
          "text": [
            "idf_katg accuracy: 1.0\n",
            "idf_inha accuracy: 1.0\n",
            "rdf_rpob1 accuracy: 0.9891304347826086\n",
            "rdf_rpob2 accuracy: 1.0\n",
            "rdf_rpob3 accuracy: 0.9888888888888889\n",
            "sdf_rspl accuracy: 1.0\n",
            "sdf_rrs accuracy: 1.0\n",
            "Average accuracy: 0.9968599033816424\n"
          ],
          "name": "stdout"
        }
      ]
    },
    {
      "cell_type": "code",
      "metadata": {
        "colab": {
          "base_uri": "https://localhost:8080/",
          "height": 125
        },
        "id": "Vrq6VgH1N13g",
        "outputId": "43396584-9a7e-427f-d9b0-6ea194b3cf68"
      },
      "source": [
        "# MOCK TRIAL OF USING MODEL\n",
        "# credit to https://stackoverflow.com/questions/1867861/how-to-keep-keys-values-in-same-order-as-declared\n",
        "# for explaining using OrderedDict and https://stackoverflow.com/questions/17839973/constructing-pandas-dataframe-from-values-in-variables-gives-valueerror-if-usi\n",
        "# for index explanation\n",
        "from collections import OrderedDict\n",
        "isoniazid_testing = dataframes_dict['idf_katg']\n",
        "X = isoniazid_testing.loc[:, (isoniazid_testing.columns != 'Expressed') & (isoniazid_testing.columns != ' Sample ID')]\n",
        "isoniazid_test_dict = OrderedDict()\n",
        "for container in X.columns.to_list():\n",
        "  isoniazid_test_dict[container.value] = X.iloc[0][container.value]\n",
        "\n",
        "test_df = pd.DataFrame(isoniazid_test_dict, columns = isoniazid_test_dict.keys(), index = [0])\n",
        "test_values_scaled = lr_models_and_data_dict['idf_katg']['scaler'].transform(test_df)\n",
        "print('Prediction:', lr_models_and_data_dict['idf_katg']['model'].predict(test_values_scaled)[0])\n",
        "test_df"
      ],
      "execution_count": null,
      "outputs": [
        {
          "output_type": "stream",
          "text": [
            "Prediction: 133 katG 315 Thr 8/10/09\n"
          ],
          "name": "stdout"
        },
        {
          "output_type": "execute_result",
          "data": {
            "text/html": [
              "<div>\n",
              "<style scoped>\n",
              "    .dataframe tbody tr th:only-of-type {\n",
              "        vertical-align: middle;\n",
              "    }\n",
              "\n",
              "    .dataframe tbody tr th {\n",
              "        vertical-align: top;\n",
              "    }\n",
              "\n",
              "    .dataframe thead th {\n",
              "        text-align: right;\n",
              "    }\n",
              "</style>\n",
              "<table border=\"1\" class=\"dataframe\">\n",
              "  <thead>\n",
              "    <tr style=\"text-align: right;\">\n",
              "      <th></th>\n",
              "      <th>132 katG 315 Ser 8/10/09</th>\n",
              "      <th>133 katG 315 Thr 8/10/09</th>\n",
              "      <th>102 katG 315 Arg 3/25/09</th>\n",
              "      <th>104 katG 315 ile 10/19/09</th>\n",
              "      <th>105 katG 315 Gly 10/19/09</th>\n",
              "      <th>106 katG 315 Asn 3/25/09</th>\n",
              "      <th>315 katG Thr 5/2009 (2)</th>\n",
              "    </tr>\n",
              "  </thead>\n",
              "  <tbody>\n",
              "    <tr>\n",
              "      <th>0</th>\n",
              "      <td>209.0</td>\n",
              "      <td>3124.0</td>\n",
              "      <td>125.0</td>\n",
              "      <td>178.0</td>\n",
              "      <td>145.5</td>\n",
              "      <td>299.5</td>\n",
              "      <td>147.0</td>\n",
              "    </tr>\n",
              "  </tbody>\n",
              "</table>\n",
              "</div>"
            ],
            "text/plain": [
              "   132 katG 315 Ser 8/10/09  ...  315 katG Thr 5/2009 (2)\n",
              "0                     209.0  ...                    147.0\n",
              "\n",
              "[1 rows x 7 columns]"
            ]
          },
          "metadata": {
            "tags": []
          },
          "execution_count": 29
        }
      ]
    },
    {
      "cell_type": "code",
      "metadata": {
        "id": "QE0iBFp8KNeN",
        "colab": {
          "base_uri": "https://localhost:8080/",
          "height": 197
        },
        "outputId": "f969bd61-44d6-42a5-fde5-4db6bb6fc64b"
      },
      "source": [
        "'''\n",
        "\n",
        "IGNORE THIS AS THIS WAS THE OLD COLUMN BY COLUMN METHOD\n",
        "\n",
        "from sklearn.linear_model import LogisticRegressionCV\n",
        "from sklearn.preprocessing import StandardScaler\n",
        "from sklearn.metrics import accuracy_score\n",
        "\n",
        "models_and_data_dict = {}\n",
        "for drug in dataframes_dict:\n",
        "  print(drug)\n",
        "  current_df = dataframes_dict[drug]\n",
        "  for column_index in range(1, len(current_df.columns)):\n",
        "    # SPLIT THE DATA\n",
        "    column_df = make_df_from_col(current_df.iloc[:, column_index])\n",
        "    X = column_df['value']\n",
        "    Y = column_df['expression']\n",
        "    X_train, X_test, Y_train, Y_test = train_test_split(X, Y, train_size = 0.8)\n",
        "\n",
        "    # SCALE THE DATA\n",
        "    # scale the training data according to standard scaler\n",
        "    # see https://stackoverflow.com/questions/53723928/attributeerror-series-object-has-no-attribute-reshape\n",
        "    # for why we need to call .values and then reshape into 2D array\n",
        "    std_scaler = StandardScaler()\n",
        "    std_scaler.fit(X_train.values.reshape(-1, 1))\n",
        "    X_train_transformed = std_scaler.transform(X_train.values.reshape(-1, 1))\n",
        "    X_test_transformed = std_scaler.transform(X_test.values.reshape(-1, 1))\n",
        "\n",
        "    # PERFORM LOGISTIC REGRESSION (ONLY IF THERE ARE BOTH TRUE AND FALSE VALUES)\n",
        "    if len(Y.unique()) > 1:\n",
        "      lr_model = LogisticRegressionCV(fit_intercept = True)\n",
        "      lr_model.fit(X_train_transformed, Y_train)\n",
        "      Y_pred = lr_model.predict(X_test_transformed)\n",
        "\n",
        "      # GET THE ACCURACY SCORE\n",
        "      accuracy = accuracy_score(Y_test, Y_pred)\n",
        "      print('{} accuracy: {}'.format(current_df.columns[column_index], accuracy))\n",
        "'''"
      ],
      "execution_count": null,
      "outputs": [
        {
          "output_type": "execute_result",
          "data": {
            "application/vnd.google.colaboratory.intrinsic+json": {
              "type": "string"
            },
            "text/plain": [
              "\"\\n\\nIGNORE THIS AS THIS WAS THE OLD COLUMN BY COLUMN METHOD\\n\\nfrom sklearn.linear_model import LogisticRegressionCV\\nfrom sklearn.preprocessing import StandardScaler\\nfrom sklearn.metrics import accuracy_score\\n\\nmodels_and_data_dict = {}\\nfor drug in dataframes_dict:\\n  print(drug)\\n  current_df = dataframes_dict[drug]\\n  for column_index in range(1, len(current_df.columns)):\\n    # SPLIT THE DATA\\n    column_df = make_df_from_col(current_df.iloc[:, column_index])\\n    X = column_df['value']\\n    Y = column_df['expression']\\n    X_train, X_test, Y_train, Y_test = train_test_split(X, Y, train_size = 0.8)\\n\\n    # SCALE THE DATA\\n    # scale the training data according to standard scaler\\n    # see https://stackoverflow.com/questions/53723928/attributeerror-series-object-has-no-attribute-reshape\\n    # for why we need to call .values and then reshape into 2D array\\n    std_scaler = StandardScaler()\\n    std_scaler.fit(X_train.values.reshape(-1, 1))\\n    X_train_transformed = std_scaler.transform(X_train.values.reshape(-1, 1))\\n    X_test_transformed = std_scaler.transform(X_test.values.reshape(-1, 1))\\n\\n    # PERFORM LOGISTIC REGRESSION (ONLY IF THERE ARE BOTH TRUE AND FALSE VALUES)\\n    if len(Y.unique()) > 1:\\n      lr_model = LogisticRegressionCV(fit_intercept = True)\\n      lr_model.fit(X_train_transformed, Y_train)\\n      Y_pred = lr_model.predict(X_test_transformed)\\n\\n      # GET THE ACCURACY SCORE\\n      accuracy = accuracy_score(Y_test, Y_pred)\\n      print('{} accuracy: {}'.format(current_df.columns[column_index], accuracy))\\n\""
            ]
          },
          "metadata": {
            "tags": []
          },
          "execution_count": 30
        }
      ]
    },
    {
      "cell_type": "markdown",
      "metadata": {
        "id": "XPIhDX3EH6HH"
      },
      "source": [
        "### Decision Tree"
      ]
    },
    {
      "cell_type": "code",
      "metadata": {
        "id": "VE-oYOSPH_ky",
        "colab": {
          "base_uri": "https://localhost:8080/"
        },
        "outputId": "b626ede5-9f2a-4994-9bb1-0a1ec8b9d88b"
      },
      "source": [
        "# Neccessary libraries, if you touch my code I may cry..I am warning you\n",
        "from sklearn.model_selection import GridSearchCV\n",
        "from sklearn.tree import DecisionTreeClassifier\n",
        "from sklearn.metrics import accuracy_score\n",
        "from sklearn.model_selection import train_test_split\n",
        "import numpy as np\n",
        "from sklearn.preprocessing import minmax_scale\n",
        "\n",
        "# All the sub-tables we will be analyzing\n",
        "SubTables = [[idf,\"idf\"],[rdf,\"rdf\"],[sdf,\"sdf\"],[edf,\"edf\"]]\n",
        "# Model storage format --> ResultStorage[Table Name][Column Name Of Said Table]\n",
        "ResultStorage = {}\n",
        "SumOfAccur = []\n",
        "ParametersForGridSearch = {\"criterion\":[\"gini\", \"entropy\"],\n",
        "                           \"splitter\":[\"best\", \"random\"],\n",
        "                           \"max_features\":[\"auto\", \"sqrt\", \"log2\",None],\n",
        "                           \"random_state\":[21],\n",
        "                           \"class_weight\": [\"balanced\",None]}\n",
        "for Table in SubTables:\n",
        "  Table[0] = Table[0].iloc[:,1:].dropna(axis=0)\n",
        "  # Will use GridSearchCV -> exhaustive search for best hyperparameters\n",
        "  for ColumnNum in range(Table[0].shape[1]):\n",
        "    # Create X and Y matrices from Column table\n",
        "    ColumnTable = make_df_from_col(Table[0].iloc[:,ColumnNum])\n",
        "    XMatrix = minmax_scale(np.array([[Value] for Value in ColumnTable[\"value\"]]))\n",
        "    YMatrix = minmax_scale(np.array(ColumnTable[\"expression\"].values))\n",
        "\n",
        "    # Create training and test sets\n",
        "    XTrain,XTest,YTrain,YTest = train_test_split(XMatrix,YMatrix,test_size=0.3,random_state=21)\n",
        "    # Run GridSearch to find best hyperparameters and store the best model\n",
        "    if not Table[1] in ResultStorage:\n",
        "      ResultStorage[Table[1]] = {Table[0].columns[ColumnNum]:GridSearchCV(DecisionTreeClassifier(),ParametersForGridSearch,scoring=\"accuracy\").fit(XTrain,YTrain)}\n",
        "    else:\n",
        "      ResultStorage[Table[1]][Table[0].columns[ColumnNum]] = GridSearchCV(DecisionTreeClassifier(),ParametersForGridSearch,scoring=\"accuracy\").fit(XTrain,YTrain)\n",
        "    \n",
        "    # Evalute best model and output its accuracy\n",
        "    SumOfAccur.append(accuracy_score(YTest,ResultStorage[Table[1]][Table[0].columns[ColumnNum]].predict(XTest)))\n",
        "    print(\"Accuracy for {} is {}.\".format(Table[0].columns[ColumnNum],SumOfAccur[-1]))"
      ],
      "execution_count": null,
      "outputs": [
        {
          "output_type": "stream",
          "text": [
            "Accuracy for 132 katG 315 Ser 8/10/09 is 1.0.\n",
            "Accuracy for 133 katG 315 Thr 8/10/09 is 0.9801980198019802.\n",
            "Accuracy for 102 katG 315 Arg 3/25/09 is 1.0.\n",
            "Accuracy for 104 katG 315 ile 10/19/09 is 1.0.\n",
            "Accuracy for 105 katG 315 Gly 10/19/09 is 1.0.\n"
          ],
          "name": "stdout"
        },
        {
          "output_type": "stream",
          "text": [
            "/usr/local/lib/python3.6/dist-packages/sklearn/model_selection/_split.py:667: UserWarning:The least populated class in y has only 1 members, which is less than n_splits=5.\n"
          ],
          "name": "stderr"
        },
        {
          "output_type": "stream",
          "text": [
            "Accuracy for 106 katG 315 Asn 3/25/09 is 1.0.\n"
          ],
          "name": "stdout"
        },
        {
          "output_type": "stream",
          "text": [
            "/usr/local/lib/python3.6/dist-packages/sklearn/model_selection/_split.py:667: UserWarning:The least populated class in y has only 3 members, which is less than n_splits=5.\n"
          ],
          "name": "stderr"
        },
        {
          "output_type": "stream",
          "text": [
            "Accuracy for 315 katG Thr 5/2009 (2) is 1.0.\n",
            "Accuracy for 143 inhA -15C 11/1/11 is 0.9702970297029703.\n",
            "Accuracy for 145 inhA -15T 11/1/11 is 1.0.\n",
            "Accuracy for 162 rpoB 516 Asp 6//6/11 is 0.9108910891089109.\n",
            "Accuracy for 115 rpoB 516 Tyr 11/10/11 is 0.9504950495049505.\n",
            "Accuracy for 118 rpoB 516 Val 6/15/09 is 0.9504950495049505.\n"
          ],
          "name": "stdout"
        },
        {
          "output_type": "stream",
          "text": [
            "/usr/local/lib/python3.6/dist-packages/sklearn/model_selection/_split.py:667: UserWarning:The least populated class in y has only 3 members, which is less than n_splits=5.\n"
          ],
          "name": "stderr"
        },
        {
          "output_type": "stream",
          "text": [
            "Accuracy for 121 rpoB 516 Glu 8/18/11 is 0.9702970297029703.\n"
          ],
          "name": "stdout"
        },
        {
          "output_type": "stream",
          "text": [
            "/usr/local/lib/python3.6/dist-packages/sklearn/model_selection/_split.py:667: UserWarning:The least populated class in y has only 2 members, which is less than n_splits=5.\n"
          ],
          "name": "stderr"
        },
        {
          "output_type": "stream",
          "text": [
            "Accuracy for 169 rpoB 516 Gly 9/2/11 is 0.9900990099009901.\n"
          ],
          "name": "stdout"
        },
        {
          "output_type": "stream",
          "text": [
            "/usr/local/lib/python3.6/dist-packages/sklearn/model_selection/_split.py:667: UserWarning:The least populated class in y has only 4 members, which is less than n_splits=5.\n"
          ],
          "name": "stderr"
        },
        {
          "output_type": "stream",
          "text": [
            "Accuracy for 515 and 516 ATC rpoB (28) is 0.9801980198019802.\n"
          ],
          "name": "stdout"
        },
        {
          "output_type": "stream",
          "text": [
            "/usr/local/lib/python3.6/dist-packages/sklearn/model_selection/_split.py:667: UserWarning:The least populated class in y has only 3 members, which is less than n_splits=5.\n"
          ],
          "name": "stderr"
        },
        {
          "output_type": "stream",
          "text": [
            "Accuracy for 515 and 516 rpoB ATT (58) is 0.9801980198019802.\n"
          ],
          "name": "stdout"
        },
        {
          "output_type": "stream",
          "text": [
            "/usr/local/lib/python3.6/dist-packages/sklearn/model_selection/_split.py:667: UserWarning:The least populated class in y has only 4 members, which is less than n_splits=5.\n"
          ],
          "name": "stderr"
        },
        {
          "output_type": "stream",
          "text": [
            "Accuracy for 88 rpoB 526 His 21 bp 4/4/18 is 0.979381443298969.\n",
            "Accuracy for 103 rpoB 526 Asp 8/18/11 is 1.0.\n"
          ],
          "name": "stdout"
        },
        {
          "output_type": "stream",
          "text": [
            "/usr/local/lib/python3.6/dist-packages/sklearn/model_selection/_split.py:667: UserWarning:The least populated class in y has only 3 members, which is less than n_splits=5.\n"
          ],
          "name": "stderr"
        },
        {
          "output_type": "stream",
          "text": [
            "Accuracy for 135 rpoB 526 Tyr 11/10/11 is 0.9896907216494846.\n"
          ],
          "name": "stdout"
        },
        {
          "output_type": "stream",
          "text": [
            "/usr/local/lib/python3.6/dist-packages/sklearn/model_selection/_split.py:667: UserWarning:The least populated class in y has only 1 members, which is less than n_splits=5.\n"
          ],
          "name": "stderr"
        },
        {
          "output_type": "stream",
          "text": [
            "Accuracy for 108 rpoB 526 Arg 8/18/11 is 1.0.\n",
            "Accuracy for 164 rpoB 526 Leu 6/1/11 is 1.0.\n",
            "Accuracy for 168 rpoB 526 Cys 9/2/11 is 1.0.\n",
            "Accuracy for 181 rpoB 526 Pro 11/9/11 is 1.0.\n",
            "Accuracy for 188 rpoB 531 ser WT 9/2/11 is 0.9595959595959596.\n"
          ],
          "name": "stdout"
        },
        {
          "output_type": "stream",
          "text": [
            "/usr/local/lib/python3.6/dist-packages/sklearn/model_selection/_split.py:667: UserWarning:The least populated class in y has only 2 members, which is less than n_splits=5.\n"
          ],
          "name": "stderr"
        },
        {
          "output_type": "stream",
          "text": [
            "Accuracy for 110 rpoB Cys  531 11/10/11 is 0.9797979797979798.\n",
            "Accuracy for 130 rpoB 531 Trp 11/14/11 is 0.898989898989899.\n",
            "Accuracy for 136 rpoB 531 Leu 8/18/11 is 0.9696969696969697.\n",
            "Accuracy for 166 rpsL 43 Wt 8/18/11 is 0.9801980198019802.\n",
            "Accuracy for 167 rpsL 43 8/18/11 is 1.0.\n",
            "Accuracy for 134 rpsL 88 11/14/2011 is 1.0.\n",
            "Accuracy for 127 rpsL 88 11/14/2011 is 0.9603960396039604.\n",
            "Accuracy for 175 rrs 513A 1/23/12 is 0.9702970297029703.\n",
            "Accuracy for 146 rrs 513C 2/6/2012 is 1.0.\n"
          ],
          "name": "stdout"
        },
        {
          "output_type": "stream",
          "text": [
            "/usr/local/lib/python3.6/dist-packages/sklearn/model_selection/_split.py:667: UserWarning:The least populated class in y has only 4 members, which is less than n_splits=5.\n"
          ],
          "name": "stderr"
        },
        {
          "output_type": "stream",
          "text": [
            "Accuracy for 148 rrs 516C WT 10/15/2012 is 0.9801980198019802.\n"
          ],
          "name": "stdout"
        },
        {
          "output_type": "stream",
          "text": [
            "/usr/local/lib/python3.6/dist-packages/sklearn/model_selection/_split.py:667: UserWarning:The least populated class in y has only 4 members, which is less than n_splits=5.\n"
          ],
          "name": "stderr"
        },
        {
          "output_type": "stream",
          "text": [
            "Accuracy for 161 rrs 516T 10/30/2012 is 0.9801980198019802.\n",
            "Accuracy for 140 embB 306 WT 10/15/2012 is 0.9108910891089109.\n",
            "Accuracy for 157 embB 306 Val 10/30/2012 is 0.8712871287128713.\n",
            "Accuracy for 306 emB Iso ATC 5-16-13 (77) is 0.9900990099009901.\n",
            "Accuracy for 126 306 embB ATA (26) is 0.9801980198019802.\n",
            "Accuracy for 306 emB ATT 11-25-13 (78) is 1.0.\n"
          ],
          "name": "stdout"
        }
      ]
    },
    {
      "cell_type": "markdown",
      "metadata": {
        "id": "3IMO-Qa94EJA"
      },
      "source": [
        "### Decision Tree New"
      ]
    },
    {
      "cell_type": "code",
      "metadata": {
        "colab": {
          "base_uri": "https://localhost:8080/"
        },
        "id": "HSQYsZyt2Yph",
        "outputId": "db17604d-9d06-4b7b-894c-71c81fd85d43"
      },
      "source": [
        "# Neccessary libraries, if you touch my code I may cry..I am warning you\n",
        "from sklearn.model_selection import GridSearchCV\n",
        "from sklearn.tree import DecisionTreeClassifier\n",
        "from sklearn.metrics import accuracy_score\n",
        "from sklearn.model_selection import train_test_split\n",
        "import numpy as np\n",
        "from sklearn.preprocessing import minmax_scale\n",
        "\n",
        "# All the sub-tables we will be analyzing\n",
        "SubTables = [[idf_katg,\"idf_katg\"],\n",
        "             [idf_inha,\"idf_inha\"],\n",
        "             [rdf_rpob1,\"rdf_rpob1\"],\n",
        "             [rdf_rpob2,\"rdf_rpob2\"],\n",
        "             [rdf_rpob3,\"rdf_rpob3\"],\n",
        "             [sdf_rspl,\"sdf_rspl\"],\n",
        "             [sdf_rrs,\"sdf_rrs\"],\n",
        "             [edf,\"edf\"]]\n",
        "\n",
        "# Model storage format --> ResultStorage[Table Name][Column Name Of Said Table]\n",
        "ResultStorage = {}\n",
        "SumOfAccur = []\n",
        "ParametersForGridSearch = {\"criterion\":[\"gini\", \"entropy\"],\n",
        "                           \"splitter\":[\"best\", \"random\"],\n",
        "                           \"max_features\":[\"auto\", \"sqrt\", \"log2\",None],\n",
        "                           \"random_state\":[21],\n",
        "                           \"class_weight\": [\"balanced\",None]}\n",
        "for Table in SubTables:\n",
        "  RawTable = TableToXAndY(Table[0])\n",
        "  X = (np.array(RawTable[0]))\n",
        "  Y = (np.array(RawTable[1]))\n",
        "  # Create training and test sets\n",
        "  XTrain,XTest,YTrain,YTest = train_test_split(X,Y,test_size=0.3,random_state=21)\n",
        "  # Run GridSearch to find best hyperparameters and store the best model\n",
        "  ResultStorage[Table[1]] = GridSearchCV(DecisionTreeClassifier(),ParametersForGridSearch,scoring=\"accuracy\").fit(XTrain,YTrain)\n",
        "    \n",
        "  # Evalute best model and output its accuracy\n",
        "  SumOfAccur.append(accuracy_score(YTest,ResultStorage[Table[1]].predict(XTest)))\n",
        "  print(\"Accuracy for {} is {}.\".format(Table[1],SumOfAccur[-1]))"
      ],
      "execution_count": null,
      "outputs": [
        {
          "output_type": "stream",
          "text": [
            "Accuracy for idf_katg is 1.0.\n",
            "Accuracy for idf_inha is 1.0.\n",
            "Accuracy for rdf_rpob1 is 0.9603960396039604.\n",
            "Accuracy for rdf_rpob2 is 1.0.\n",
            "Accuracy for rdf_rpob3 is 0.9797979797979798.\n",
            "Accuracy for sdf_rspl is 0.9801980198019802.\n",
            "Accuracy for sdf_rrs is 0.9900990099009901.\n",
            "Accuracy for edf is 1.0.\n"
          ],
          "name": "stdout"
        }
      ]
    },
    {
      "cell_type": "code",
      "metadata": {
        "id": "IO0kQaB7AjRP",
        "colab": {
          "base_uri": "https://localhost:8080/"
        },
        "outputId": "83a2b82f-4633-499b-96e6-32ae8d78517d"
      },
      "source": [
        "# This is kinda sus -> report as suspicious to Dr.Khan and say it is probably due to a small dataset\n",
        "print(\"Accuracy: ~\",end=\"\")\n",
        "print(round((sum(SumOfAccur)/len(SumOfAccur))*100))"
      ],
      "execution_count": null,
      "outputs": [
        {
          "output_type": "stream",
          "text": [
            "Accuracy: ~99.0\n"
          ],
          "name": "stdout"
        }
      ]
    },
    {
      "cell_type": "code",
      "metadata": {
        "id": "PsMj7UFTEPNp"
      },
      "source": [
        "# Test with rows with this method -> make sure variety comes see discussion and try with rows instead of columns"
      ],
      "execution_count": null,
      "outputs": []
    },
    {
      "cell_type": "markdown",
      "metadata": {
        "id": "QeyTXpFDH5Pv"
      },
      "source": [
        "### Decision Tree (With Shuffling)"
      ]
    },
    {
      "cell_type": "code",
      "metadata": {
        "colab": {
          "base_uri": "https://localhost:8080/"
        },
        "id": "ySohm_D5H7oD",
        "outputId": "8441135d-a801-4680-c3ee-55f92e8664a4"
      },
      "source": [
        "# All the sub-tables we will be analyzing\n",
        "SubTables = [[idf_katg,\"idf_katg\"],\n",
        "             [idf_inha,\"idf_inha\"],\n",
        "             [rdf_rpob1,\"rdf_rpob1\"],\n",
        "             [rdf_rpob2,\"rdf_rpob2\"],\n",
        "             [rdf_rpob3,\"rdf_rpob3\"],\n",
        "             [sdf_rspl,\"sdf_rspl\"],\n",
        "             [sdf_rrs,\"sdf_rrs\"],\n",
        "             [edf,\"edf\"]]\n",
        "\n",
        "# Model storage format --> ResultStorage[Table Name][Column Name Of Said Table]\n",
        "ResultStorage = {}\n",
        "SumOfAccur = []\n",
        "ParametersForGridSearch = {\"criterion\":[\"gini\", \"entropy\"],\n",
        "                           \"splitter\":[\"best\", \"random\"],\n",
        "                           \"max_features\":[\"auto\", \"sqrt\", \"log2\",None],\n",
        "                           \"random_state\":[21],\n",
        "                           \"class_weight\": [\"balanced\",None]}\n",
        "for Table in SubTables:\n",
        "  RawTable = TableToXAndY(Table[0])\n",
        "  X = (np.array(RawTable[0]))\n",
        "  Y = (np.array(RawTable[1]))\n",
        "\n",
        "  RawTableShuffled = shuffle_cols(X, Y)\n",
        "  X_shuffled = (np.array(RawTableShuffled[0]))\n",
        "  Y_shuffled = (np.array(RawTableShuffled[1]))\n",
        "\n",
        "  # Create training and test sets\n",
        "  XTrain,XTest,YTrain,YTest = train_test_split(X_shuffled,Y_shuffled,test_size=0.3,random_state=21)\n",
        "  # Run GridSearch to find best hyperparameters and store the best model\n",
        "  ResultStorage[Table[1]] = GridSearchCV(DecisionTreeClassifier(),ParametersForGridSearch,scoring=\"accuracy\").fit(XTrain,YTrain)\n",
        "    \n",
        "  # Evalute best model and output its accuracy\n",
        "  SumOfAccur.append(accuracy_score(YTest,ResultStorage[Table[1]].predict(XTest)))\n",
        "  print(\"Accuracy for {} is {}.\".format(Table[1],SumOfAccur[-1]))"
      ],
      "execution_count": null,
      "outputs": [
        {
          "output_type": "stream",
          "text": [
            "Accuracy for idf_katg is 0.9900990099009901.\n",
            "Accuracy for idf_inha is 0.9900990099009901.\n",
            "Accuracy for rdf_rpob1 is 0.8613861386138614.\n",
            "Accuracy for rdf_rpob2 is 0.9791666666666666.\n",
            "Accuracy for rdf_rpob3 is 0.9393939393939394.\n",
            "Accuracy for sdf_rspl is 0.9504950495049505.\n",
            "Accuracy for sdf_rrs is 0.9405940594059405.\n",
            "Accuracy for edf is 0.9603960396039604.\n"
          ],
          "name": "stdout"
        }
      ]
    },
    {
      "cell_type": "code",
      "metadata": {
        "colab": {
          "base_uri": "https://localhost:8080/"
        },
        "id": "I7HGkCBKIYqf",
        "outputId": "961eb0cc-3bf5-4fed-834f-b7926f4bd77f"
      },
      "source": [
        "print(\"Accuracy: ~\",end=\"\")\n",
        "print(round((sum(SumOfAccur)/len(SumOfAccur))*100))"
      ],
      "execution_count": null,
      "outputs": [
        {
          "output_type": "stream",
          "text": [
            "Accuracy: ~99.0\n"
          ],
          "name": "stdout"
        }
      ]
    },
    {
      "cell_type": "markdown",
      "metadata": {
        "id": "9iY6cuXXYEBF"
      },
      "source": [
        "### Decision Tree with Synthetic Data"
      ]
    },
    {
      "cell_type": "code",
      "metadata": {
        "colab": {
          "base_uri": "https://localhost:8080/"
        },
        "id": "g0nRDXS4YHsR",
        "outputId": "64043b4f-e85b-4237-cea5-e1c65dc01cc2"
      },
      "source": [
        "import random\n",
        "# Neccessary libraries, if you touch my code I may cry..I am warning you\n",
        "from sklearn.model_selection import GridSearchCV\n",
        "from sklearn.tree import DecisionTreeClassifier\n",
        "from sklearn.metrics import accuracy_score\n",
        "from sklearn.model_selection import train_test_split\n",
        "import numpy as np\n",
        "from sklearn.preprocessing import minmax_scale\n",
        "\n",
        "# All the sub-tables we will be analyzing\n",
        "SubTables = [[idf_katg,\"idf_katg\"],\n",
        "             [idf_inha,\"idf_inha\"],\n",
        "             [rdf_rpob1,\"rdf_rpob1\"],\n",
        "             [rdf_rpob2,\"rdf_rpob2\"],\n",
        "             [rdf_rpob3,\"rdf_rpob3\"],\n",
        "             [sdf_rspl,\"sdf_rspl\"],\n",
        "             [sdf_rrs,\"sdf_rrs\"],\n",
        "             [edf,\"edf\"]]\n",
        "\n",
        "# Model storage format --> ResultStorage[Table Name][Column Name Of Said Table]\n",
        "ResultStorage = {}\n",
        "SumOfAccur = []\n",
        "ParametersForGridSearch = {\"criterion\":[\"gini\", \"entropy\"],\n",
        "                           \"splitter\":[\"best\", \"random\"],\n",
        "                           \"max_features\":[\"auto\", \"sqrt\", \"log2\",None],\n",
        "                           \"random_state\":[21],\n",
        "                           \"class_weight\": [\"balanced\",None]}\n",
        "for Table in SubTables:\n",
        "  RandomRowAdds = 1000\n",
        "  RawTable = TableToXAndY(Table[0])\n",
        "  X = (np.array(RawTable[0]))\n",
        "  Y = (np.array(RawTable[1]))\n",
        "\n",
        "  while RandomRowAdds > 0:\n",
        "    RandomRowAdds -= 1\n",
        "    IndexOfRandomLine = random.randint(0,X.shape[0]-1)\n",
        "    NewLine = np.array([[Num+np.random.normal(0,1,1)[0] for Num in X[IndexOfRandomLine]]])\n",
        "    \n",
        "    X = np.concatenate((X,NewLine),axis=0)\n",
        "    Y = np.concatenate((Y,np.array([Y[IndexOfRandomLine]])),axis=0)\n",
        "\n",
        "  # Create training and test sets\n",
        "  XTrain,XTest,YTrain,YTest = train_test_split(X,Y,test_size=0.3,random_state=21)\n",
        "  # Run GridSearch to find best hyperparameters and store the best model\n",
        "  ResultStorage[Table[1]] = GridSearchCV(DecisionTreeClassifier(),ParametersForGridSearch,scoring=\"accuracy\").fit(XTrain,YTrain)\n",
        "    \n",
        "  # Evalute best model and output its accuracy\n",
        "  SumOfAccur.append(accuracy_score(YTest,ResultStorage[Table[1]].predict(XTest)))\n",
        "  print(\"Accuracy for {} is {}.\".format(Table[1],SumOfAccur[-1]))"
      ],
      "execution_count": null,
      "outputs": [
        {
          "output_type": "stream",
          "text": [
            "Accuracy for idf_katg is 1.0.\n",
            "Accuracy for idf_inha is 1.0.\n",
            "Accuracy for rdf_rpob1 is 0.9975062344139651.\n",
            "Accuracy for rdf_rpob2 is 0.9974747474747475.\n",
            "Accuracy for rdf_rpob3 is 1.0.\n",
            "Accuracy for sdf_rspl is 1.0.\n",
            "Accuracy for sdf_rrs is 0.9975062344139651.\n",
            "Accuracy for edf is 1.0.\n"
          ],
          "name": "stdout"
        }
      ]
    },
    {
      "cell_type": "code",
      "metadata": {
        "colab": {
          "base_uri": "https://localhost:8080/"
        },
        "id": "zkITVU7AYJVV",
        "outputId": "8954f9fb-9f95-4c31-bf95-7f03bd94533f"
      },
      "source": [
        "print(\"Accuracy: ~\",end=\"\")\n",
        "print(round((sum(SumOfAccur)/len(SumOfAccur))*100))"
      ],
      "execution_count": null,
      "outputs": [
        {
          "output_type": "stream",
          "text": [
            "Accuracy: ~100.0\n"
          ],
          "name": "stdout"
        }
      ]
    },
    {
      "cell_type": "markdown",
      "metadata": {
        "id": "DQai-Yt4nFp4"
      },
      "source": [
        "### Decision Tree (with Synthetic Data and Shuffling)"
      ]
    },
    {
      "cell_type": "code",
      "metadata": {
        "colab": {
          "base_uri": "https://localhost:8080/"
        },
        "id": "N7ecaUPdnMV3",
        "outputId": "3f441da1-8bae-4e4f-9656-bec61be48850"
      },
      "source": [
        "import random\n",
        "# Neccessary libraries, if you touch my code I may cry..I am warning you\n",
        "from sklearn.model_selection import GridSearchCV\n",
        "from sklearn.tree import DecisionTreeClassifier\n",
        "from sklearn.metrics import accuracy_score\n",
        "from sklearn.model_selection import train_test_split\n",
        "import numpy as np\n",
        "from sklearn.preprocessing import minmax_scale\n",
        "\n",
        "# All the sub-tables we will be analyzing\n",
        "SubTables = [[idf_katg,\"idf_katg\"],\n",
        "             [idf_inha,\"idf_inha\"],\n",
        "             [rdf_rpob1,\"rdf_rpob1\"],\n",
        "             [rdf_rpob2,\"rdf_rpob2\"],\n",
        "             [rdf_rpob3,\"rdf_rpob3\"],\n",
        "             [sdf_rspl,\"sdf_rspl\"],\n",
        "             [sdf_rrs,\"sdf_rrs\"],\n",
        "             [edf,\"edf\"]]\n",
        "\n",
        "# Model storage format --> ResultStorage[Table Name][Column Name Of Said Table]\n",
        "ResultStorage = {}\n",
        "SumOfAccur = []\n",
        "ParametersForGridSearch = {\"criterion\":[\"gini\", \"entropy\"],\n",
        "                           \"splitter\":[\"best\", \"random\"],\n",
        "                           \"max_features\":[\"auto\", \"sqrt\", \"log2\",None],\n",
        "                           \"random_state\":[21],\n",
        "                           \"class_weight\": [\"balanced\",None]}\n",
        "for Table in SubTables:\n",
        "  RandomRowAdds = 1000\n",
        "  RawTable = TableToXAndY(Table[0])\n",
        "  X = (np.array(RawTable[0]))\n",
        "  Y = (np.array(RawTable[1]))\n",
        "  while RandomRowAdds > 0:\n",
        "    RandomRowAdds -= 1\n",
        "    IndexOfRandomLine = random.randint(0,X.shape[0]-1)\n",
        "    NewLine = np.array([[Num+np.random.normal(0,1,1)[0] for Num in X[IndexOfRandomLine]]])\n",
        "    \n",
        "    X = np.concatenate((X,NewLine),axis=0)\n",
        "    Y = np.concatenate((Y,np.array([Y[IndexOfRandomLine]])),axis=0)\n",
        "\n",
        "  # Shuffle the cols after adding the synthetic data \n",
        "  RawTableShuffled = shuffle_cols(X, Y)\n",
        "  X_shuffled = (np.array(RawTableShuffled[0]))\n",
        "  Y_shuffled = (np.array(RawTableShuffled[1]))  \n",
        "\n",
        "  # Create training and test sets\n",
        "  XTrain,XTest,YTrain,YTest = train_test_split(X_shuffled,Y_shuffled,test_size=0.3,random_state=21)\n",
        "  # Run GridSearch to find best hyperparameters and store the best model\n",
        "  ResultStorage[Table[1]] = GridSearchCV(DecisionTreeClassifier(),ParametersForGridSearch,scoring=\"accuracy\").fit(XTrain,YTrain)\n",
        "    \n",
        "  # Evalute best model and output its accuracy\n",
        "  SumOfAccur.append(accuracy_score(YTest,ResultStorage[Table[1]].predict(XTest)))\n",
        "  print(\"Accuracy for {} is {}.\".format(Table[1],SumOfAccur[-1]))"
      ],
      "execution_count": null,
      "outputs": [
        {
          "output_type": "stream",
          "text": [
            "Accuracy for idf_katg is 0.9850374064837906.\n",
            "Accuracy for idf_inha is 1.0.\n",
            "Accuracy for rdf_rpob1 is 0.9800498753117207.\n",
            "Accuracy for rdf_rpob2 is 0.9671717171717171.\n",
            "Accuracy for rdf_rpob3 is 0.9874686716791979.\n",
            "Accuracy for sdf_rspl is 0.9825436408977556.\n",
            "Accuracy for sdf_rrs is 0.9551122194513716.\n",
            "Accuracy for edf is 0.9551122194513716.\n"
          ],
          "name": "stdout"
        }
      ]
    },
    {
      "cell_type": "code",
      "metadata": {
        "colab": {
          "base_uri": "https://localhost:8080/"
        },
        "id": "5Wei2802olIQ",
        "outputId": "95e7603c-60b6-45e7-e739-ae5d144e9eca"
      },
      "source": [
        "print(\"Accuracy: ~\",end=\"\")\n",
        "print(round((sum(SumOfAccur)/len(SumOfAccur))*100))"
      ],
      "execution_count": null,
      "outputs": [
        {
          "output_type": "stream",
          "text": [
            "Accuracy: ~98.0\n"
          ],
          "name": "stdout"
        }
      ]
    },
    {
      "cell_type": "markdown",
      "metadata": {
        "id": "XJ01pkeCCnKT"
      },
      "source": [
        "### Neural Network"
      ]
    },
    {
      "cell_type": "code",
      "metadata": {
        "id": "fX-37jU8uf7F",
        "colab": {
          "base_uri": "https://localhost:8080/"
        },
        "outputId": "ebb6c29f-eb88-4a7a-a24b-ec2f8270d0e6"
      },
      "source": [
        "! pip install -U keras-tuner"
      ],
      "execution_count": null,
      "outputs": [
        {
          "output_type": "stream",
          "text": [
            "Collecting keras-tuner\n",
            "\u001b[?25l  Downloading https://files.pythonhosted.org/packages/20/ec/1ef246787174b1e2bb591c95f29d3c1310070cad877824f907faba3dade9/keras-tuner-1.0.2.tar.gz (62kB)\n",
            "\r\u001b[K     |█████▏                          | 10kB 15.5MB/s eta 0:00:01\r\u001b[K     |██████████▍                     | 20kB 20.0MB/s eta 0:00:01\r\u001b[K     |███████████████▋                | 30kB 11.2MB/s eta 0:00:01\r\u001b[K     |████████████████████▉           | 40kB 9.2MB/s eta 0:00:01\r\u001b[K     |██████████████████████████      | 51kB 5.4MB/s eta 0:00:01\r\u001b[K     |███████████████████████████████▎| 61kB 5.3MB/s eta 0:00:01\r\u001b[K     |████████████████████████████████| 71kB 3.7MB/s \n",
            "\u001b[?25hRequirement already satisfied, skipping upgrade: packaging in /usr/local/lib/python3.6/dist-packages (from keras-tuner) (20.4)\n",
            "Requirement already satisfied, skipping upgrade: future in /usr/local/lib/python3.6/dist-packages (from keras-tuner) (0.16.0)\n",
            "Requirement already satisfied, skipping upgrade: numpy in /usr/local/lib/python3.6/dist-packages (from keras-tuner) (1.18.5)\n",
            "Requirement already satisfied, skipping upgrade: tabulate in /usr/local/lib/python3.6/dist-packages (from keras-tuner) (0.8.7)\n",
            "Collecting terminaltables\n",
            "  Downloading https://files.pythonhosted.org/packages/9b/c4/4a21174f32f8a7e1104798c445dacdc1d4df86f2f26722767034e4de4bff/terminaltables-3.1.0.tar.gz\n",
            "Collecting colorama\n",
            "  Downloading https://files.pythonhosted.org/packages/44/98/5b86278fbbf250d239ae0ecb724f8572af1c91f4a11edf4d36a206189440/colorama-0.4.4-py2.py3-none-any.whl\n",
            "Requirement already satisfied, skipping upgrade: tqdm in /usr/local/lib/python3.6/dist-packages (from keras-tuner) (4.41.1)\n",
            "Requirement already satisfied, skipping upgrade: requests in /usr/local/lib/python3.6/dist-packages (from keras-tuner) (2.23.0)\n",
            "Requirement already satisfied, skipping upgrade: scipy in /usr/local/lib/python3.6/dist-packages (from keras-tuner) (1.4.1)\n",
            "Requirement already satisfied, skipping upgrade: scikit-learn in /usr/local/lib/python3.6/dist-packages (from keras-tuner) (0.22.2.post1)\n",
            "Requirement already satisfied, skipping upgrade: six in /usr/local/lib/python3.6/dist-packages (from packaging->keras-tuner) (1.15.0)\n",
            "Requirement already satisfied, skipping upgrade: pyparsing>=2.0.2 in /usr/local/lib/python3.6/dist-packages (from packaging->keras-tuner) (2.4.7)\n",
            "Requirement already satisfied, skipping upgrade: certifi>=2017.4.17 in /usr/local/lib/python3.6/dist-packages (from requests->keras-tuner) (2020.11.8)\n",
            "Requirement already satisfied, skipping upgrade: urllib3!=1.25.0,!=1.25.1,<1.26,>=1.21.1 in /usr/local/lib/python3.6/dist-packages (from requests->keras-tuner) (1.24.3)\n",
            "Requirement already satisfied, skipping upgrade: chardet<4,>=3.0.2 in /usr/local/lib/python3.6/dist-packages (from requests->keras-tuner) (3.0.4)\n",
            "Requirement already satisfied, skipping upgrade: idna<3,>=2.5 in /usr/local/lib/python3.6/dist-packages (from requests->keras-tuner) (2.10)\n",
            "Requirement already satisfied, skipping upgrade: joblib>=0.11 in /usr/local/lib/python3.6/dist-packages (from scikit-learn->keras-tuner) (0.17.0)\n",
            "Building wheels for collected packages: keras-tuner, terminaltables\n",
            "  Building wheel for keras-tuner (setup.py) ... \u001b[?25l\u001b[?25hdone\n",
            "  Created wheel for keras-tuner: filename=keras_tuner-1.0.2-cp36-none-any.whl size=78937 sha256=745ca9ff77971874b456f5a9f3fb20d106f995ff72eadc22ee4d3f9147f490a7\n",
            "  Stored in directory: /root/.cache/pip/wheels/bb/a1/8a/7c3de0efb3707a1701b36ebbfdbc4e67aedf6d4943a1f463d6\n",
            "  Building wheel for terminaltables (setup.py) ... \u001b[?25l\u001b[?25hdone\n",
            "  Created wheel for terminaltables: filename=terminaltables-3.1.0-cp36-none-any.whl size=15356 sha256=a2deee158248b9f15a876714279780544c5877bf8d599bad068e51627259aff1\n",
            "  Stored in directory: /root/.cache/pip/wheels/30/6b/50/6c75775b681fb36cdfac7f19799888ef9d8813aff9e379663e\n",
            "Successfully built keras-tuner terminaltables\n",
            "Installing collected packages: terminaltables, colorama, keras-tuner\n",
            "Successfully installed colorama-0.4.4 keras-tuner-1.0.2 terminaltables-3.1.0\n"
          ],
          "name": "stdout"
        }
      ]
    },
    {
      "cell_type": "code",
      "metadata": {
        "id": "EtCnLNIBCsij",
        "colab": {
          "base_uri": "https://localhost:8080/"
        },
        "outputId": "d60d4686-a4a3-44f6-9454-9e9e6bc2f562"
      },
      "source": [
        "import numpy as np\n",
        "import tensorflow as tf\n",
        "from tensorflow import keras\n",
        "from keras.models import Sequential\n",
        "from keras.layers import Dense\n",
        "from kerastuner.tuners import RandomSearch\n",
        "from sklearn.metrics import accuracy_score\n",
        "# Resources Used\n",
        "# ECS 171 Discussion-10-30 [ECS 171 Fall 2020]\n",
        "# https://keras-team.github.io/keras-tuner/\n",
        "# https://machinelearningmastery.com/multi-label-classification-with-deep-learning/\n",
        "\n",
        "\n",
        "SubTables = [[idf_katg,\"idf_katg\"],\n",
        "             [idf_inha,\"idf_inha\"],\n",
        "             [rdf_rpob1,\"rdf_rpob1\"],\n",
        "             [rdf_rpob2,\"rdf_rpob2\"],\n",
        "             [rdf_rpob3,\"rdf_rpob3\"],\n",
        "             [sdf_rspl,\"sdf_rspl\"],\n",
        "             [sdf_rrs,\"sdf_rrs\"],\n",
        "             [edf,\"edf\"]]\n",
        "Models = {}\n",
        "MeanAccuracy = 0\n",
        "\n",
        "for Table in SubTables:\n",
        "  RawTable = TableToXAndY(Table[0])\n",
        "  X = (np.array(RawTable[0]))\n",
        "  Y = (np.array(RawTable[1]))\n",
        "  XTrain,XTestVal,YTrain,YTestVal = train_test_split(X,Y,test_size=0.3,random_state=21)\n",
        "  XTest,XVal,YTest,YVal = train_test_split(XTestVal,YTestVal,test_size=0.5,random_state=21)\n",
        "  NeuralNet = Sequential()\n",
        "  NeuralNet.add(Dense(27,activation=\"relu\",input_dim=X.shape[1]))\n",
        "  NeuralNet.add(Dense(27,activation=\"relu\"))\n",
        "  NeuralNet.add(Dense(Y.shape[1],activation=\"sigmoid\"))\n",
        "  NeuralNet.compile(optimizer='adam',loss='binary_crossentropy',metrics=['accuracy'])\n",
        "  NeuralNet.fit(XTrain, YTrain,batch_size=10, epochs=45,validation_data=(XVal, YVal),verbose=0)\n",
        "  Models[Table[1]] = NeuralNet\n",
        "  Result = NeuralNet.predict(XTest).round()\n",
        "  Accuracy = accuracy_score(YTest,Result)\n",
        "  MeanAccuracy += Accuracy\n",
        "  print(\"{} Accuracy: {}\".format(Table[1],Accuracy))"
      ],
      "execution_count": null,
      "outputs": [
        {
          "output_type": "stream",
          "text": [
            "idf_katg Accuracy: 0.98\n",
            "idf_inha Accuracy: 0.98\n",
            "rdf_rpob1 Accuracy: 0.96\n",
            "rdf_rpob2 Accuracy: 1.0\n",
            "WARNING:tensorflow:5 out of the last 9 calls to <function Model.make_predict_function.<locals>.predict_function at 0x7fbeaf41eae8> triggered tf.function retracing. Tracing is expensive and the excessive number of tracings could be due to (1) creating @tf.function repeatedly in a loop, (2) passing tensors with different shapes, (3) passing Python objects instead of tensors. For (1), please define your @tf.function outside of the loop. For (2), @tf.function has experimental_relax_shapes=True option that relaxes argument shapes that can avoid unnecessary retracing. For (3), please refer to https://www.tensorflow.org/tutorials/customization/performance#python_or_tensor_args and https://www.tensorflow.org/api_docs/python/tf/function for  more details.\n",
            "rdf_rpob3 Accuracy: 0.9591836734693877\n",
            "WARNING:tensorflow:6 out of the last 11 calls to <function Model.make_predict_function.<locals>.predict_function at 0x7fbeaf027ea0> triggered tf.function retracing. Tracing is expensive and the excessive number of tracings could be due to (1) creating @tf.function repeatedly in a loop, (2) passing tensors with different shapes, (3) passing Python objects instead of tensors. For (1), please define your @tf.function outside of the loop. For (2), @tf.function has experimental_relax_shapes=True option that relaxes argument shapes that can avoid unnecessary retracing. For (3), please refer to https://www.tensorflow.org/tutorials/customization/performance#python_or_tensor_args and https://www.tensorflow.org/api_docs/python/tf/function for  more details.\n",
            "sdf_rspl Accuracy: 1.0\n",
            "WARNING:tensorflow:6 out of the last 11 calls to <function Model.make_predict_function.<locals>.predict_function at 0x7fbea75f58c8> triggered tf.function retracing. Tracing is expensive and the excessive number of tracings could be due to (1) creating @tf.function repeatedly in a loop, (2) passing tensors with different shapes, (3) passing Python objects instead of tensors. For (1), please define your @tf.function outside of the loop. For (2), @tf.function has experimental_relax_shapes=True option that relaxes argument shapes that can avoid unnecessary retracing. For (3), please refer to https://www.tensorflow.org/tutorials/customization/performance#python_or_tensor_args and https://www.tensorflow.org/api_docs/python/tf/function for  more details.\n",
            "sdf_rrs Accuracy: 1.0\n",
            "WARNING:tensorflow:6 out of the last 11 calls to <function Model.make_predict_function.<locals>.predict_function at 0x7fbea74752f0> triggered tf.function retracing. Tracing is expensive and the excessive number of tracings could be due to (1) creating @tf.function repeatedly in a loop, (2) passing tensors with different shapes, (3) passing Python objects instead of tensors. For (1), please define your @tf.function outside of the loop. For (2), @tf.function has experimental_relax_shapes=True option that relaxes argument shapes that can avoid unnecessary retracing. For (3), please refer to https://www.tensorflow.org/tutorials/customization/performance#python_or_tensor_args and https://www.tensorflow.org/api_docs/python/tf/function for  more details.\n",
            "edf Accuracy: 0.96\n"
          ],
          "name": "stdout"
        }
      ]
    },
    {
      "cell_type": "code",
      "metadata": {
        "id": "evE_Koa85PwZ",
        "colab": {
          "base_uri": "https://localhost:8080/"
        },
        "outputId": "c8a0b5c7-00ea-42b0-aba3-0d932705d2fd"
      },
      "source": [
        "print(MeanAccuracy/8)"
      ],
      "execution_count": null,
      "outputs": [
        {
          "output_type": "stream",
          "text": [
            "0.9798979591836735\n"
          ],
          "name": "stdout"
        }
      ]
    },
    {
      "cell_type": "code",
      "metadata": {
        "colab": {
          "base_uri": "https://localhost:8080/"
        },
        "id": "HkuhQFD7LTAM",
        "outputId": "6bdb7574-d357-432a-c6ed-8f81b52ba372"
      },
      "source": [
        "# Shows that we can us saved models for prediction purposes\n",
        "RawTable = TableToXAndY(idf_inha)\n",
        "Models['idf_inha'].predict(np.array(RawTable[0])[:1])"
      ],
      "execution_count": null,
      "outputs": [
        {
          "output_type": "execute_result",
          "data": {
            "text/plain": [
              "array([[1., 0.]], dtype=float32)"
            ]
          },
          "metadata": {
            "tags": []
          },
          "execution_count": 73
        }
      ]
    },
    {
      "cell_type": "markdown",
      "metadata": {
        "id": "EBA_XFiAPIpW"
      },
      "source": [
        "### Neural Net (Optimized)"
      ]
    },
    {
      "cell_type": "code",
      "metadata": {
        "id": "nmMThv6NPSMo",
        "colab": {
          "base_uri": "https://localhost:8080/"
        },
        "outputId": "3e489d2b-49fe-4dd0-c6d2-522c1fd92fb2"
      },
      "source": [
        "\n",
        "from tensorflow.keras.optimizers import Adam\n",
        "from kerastuner.tuners import RandomSearch\n",
        "\n",
        "# https://www.machinecurve.com/index.php/2020/06/09/automating-neural-network-configuration-with-keras-tuner/\n",
        "# https://github.com/keras-team/keras-tuner\n",
        "InputShape = 0\n",
        "OutputShape = 0\n",
        "def Model(HP):\n",
        "  print(InputShape)\n",
        "  NeuralNet = Sequential()\n",
        "  NeuralNet.add(Dense(units=HP.Int('units',min_value=25,max_value=35,step=5),activation=\"relu\",input_dim=InputShape))\n",
        "  NeuralNet.add(Dense(units=HP.Int('units',min_value=25,max_value=35,step=5),activation=\"relu\"))\n",
        "  NeuralNet.add(Dense(OutputShape,activation=\"sigmoid\"))\n",
        "  NeuralNet.compile(optimizer=\"adam\",loss='binary_crossentropy',metrics=['accuracy'])\n",
        "  return NeuralNet\n",
        "\n",
        "\n",
        "ModelOpt = {}\n",
        "ResultDict = {}\n",
        "for Table in SubTables:\n",
        "  RawTable = TableToXAndY(Table[0])\n",
        "  X = (np.array(RawTable[0]))\n",
        "  Y = (np.array(RawTable[1]))\n",
        "  InputShape = X.shape[1]\n",
        "  OutputShape = Y.shape[1]\n",
        "  XTrain,XTest,YTrain,YTest = train_test_split(X,Y,test_size=0.3,random_state=21)\n",
        "  Tuner = RandomSearch(\n",
        "      Model,\n",
        "      objective='val_accuracy',\n",
        "      max_trials=3,\n",
        "      executions_per_trial=5,\n",
        "      directory='Tuning_dir',\n",
        "      project_name='NN_Result_Temp'+Table[1])\n",
        "\n",
        "  Result = Tuner.search(XTrain, YTrain,\n",
        "              epochs=10,\n",
        "              validation_split=0.3)\n",
        "  ModelOpt[Table[1]] = Tuner.get_best_models(num_models=1)[0]\n",
        "  ModelOpt[Table[1]].fit(XTrain, YTrain,batch_size=15, epochs=40,verbose=0)\n",
        "  Score = ModelOpt[Table[1]].evaluate(XTest, YTest, verbose=0)\n",
        "  ResultDict[Table[1]] = round(Score[1],2)"
      ],
      "execution_count": null,
      "outputs": [
        {
          "output_type": "stream",
          "text": [
            "Trial 2 Complete [00h 00m 06s]\n",
            "val_accuracy: 0.8985915422439575\n",
            "\n",
            "Best val_accuracy So Far: 0.9211267590522766\n",
            "Total elapsed time: 00h 00m 11s\n",
            "INFO:tensorflow:Oracle triggered exit\n",
            "5\n"
          ],
          "name": "stdout"
        }
      ]
    },
    {
      "cell_type": "code",
      "metadata": {
        "id": "E6wpxCemfUG1",
        "colab": {
          "base_uri": "https://localhost:8080/"
        },
        "outputId": "4f5731ba-2688-4492-c4a1-15730f4a419e"
      },
      "source": [
        "ResultL = 0\n",
        "for Result in ResultDict:\n",
        "  print(\"{} Accuracy: {}\".format(Result,ResultDict[Result]))\n",
        "  ResultL += ResultDict[Result]\n",
        "\n",
        "print(ResultL/8)"
      ],
      "execution_count": null,
      "outputs": [
        {
          "output_type": "stream",
          "text": [
            "idf_katg Accuracy: 0.99\n",
            "idf_inha Accuracy: 1.0\n",
            "rdf_rpob1 Accuracy: 1.0\n",
            "rdf_rpob2 Accuracy: 0.99\n",
            "rdf_rpob3 Accuracy: 0.97\n",
            "sdf_rspl Accuracy: 0.43\n",
            "sdf_rrs Accuracy: 0.12\n",
            "edf Accuracy: 1.0\n",
            "0.8125\n"
          ],
          "name": "stdout"
        }
      ]
    },
    {
      "cell_type": "markdown",
      "metadata": {
        "id": "59Ddye6-TiV1"
      },
      "source": [
        "### Z Scores"
      ]
    },
    {
      "cell_type": "code",
      "metadata": {
        "id": "E6j0o-4JTnHu"
      },
      "source": [
        "# z scores by column\n",
        "import scipy.stats as stats\n",
        "\n",
        "# put dataframes into arrays, ex: idf_table[0]['value'] is the first column's values\n",
        "# split into subtables \n",
        "\n",
        "idf_table = []\n",
        "for i in range(1,len(idf.columns)):\n",
        "  idf_table.append(make_df_from_col(idf.iloc[:,i]))\n",
        "\n",
        "katG_table = idf_table[0:7]\n",
        "inhA_table = idf_table[7:]\n",
        "\n",
        "rdf_table = []\n",
        "for i in range(1,len(rdf.columns)):\n",
        "  rdf_table.append(make_df_from_col(rdf.iloc[:,i]))\n",
        "\n",
        "rdf_516_table = rdf_table[0:7]\n",
        "rdf_526_table = rdf_table[7:14]\n",
        "rdf_531_table = rdf_table[14:]\n",
        "\n",
        "sdf_table = []\n",
        "for i in range(1,len(sdf.columns)):\n",
        "  sdf_table.append(make_df_from_col(sdf.iloc[:,i]))\n",
        "\n",
        "sdf_rpsL_table = sdf_table[0:4]\n",
        "sdf_rrs_table = sdf_table[4:]\n",
        "\n",
        "edf_table = []\n",
        "for i in range(1,len(edf.columns)):\n",
        "  edf_table.append(make_df_from_col(edf.iloc[:,i]))\n",
        "\n",
        "# put those tables into an array to index them\n",
        "# ie: tables[0][0]['value'] would give the first column of the first table's values\n",
        "\n",
        "tables = [katG_table, inhA_table, rdf_516_table,rdf_526_table, rdf_531_table, sdf_rpsL_table, sdf_rrs_table, edf_table]\n",
        "\n",
        "# add a column to each row to hold its zscores\n",
        "for i in range(len(tables)):\n",
        "  for j in range(len(tables[i])):\n",
        "    zscores = tables[i][j].apply(stats.zscore)\n",
        "    tables[i][j]['z_scores'] = zscores['value']\n",
        "    tables[i][j]['test_expression'] = False\n",
        "\n",
        "# compares the zscores in each row and find the max value\n",
        "for i in range(len(tables)):\n",
        "  for j in range(tables[i][0].count()[0]): # num rows\n",
        "    max = tables[i][0].iloc[j]['z_scores']\n",
        "    cur_expressed = 0\n",
        "    for k in range(len(tables[i])): # num cols\n",
        "      cur_z = tables[i][k].iloc[j]['z_scores']\n",
        "      if cur_z > max:\n",
        "        max = cur_z\n",
        "        cur_expressed = k \n",
        "    tables[i][cur_expressed]['test_expression'].iloc[j] = True\n",
        "\n",
        "for i in range(5,7):\n",
        "  for j in range(tables[i][0].count()[0]): # num rows\n",
        "    if tables[i][cur_expressed]['test_expression'].iloc[j] == False:\n",
        "      max = tables[i][0].iloc[j]['z_scores']\n",
        "      cur_expressed = 0\n",
        "    else:\n",
        "      max = tables[i][1].iloc[j]['z_scores']\n",
        "      cur_expressed = 1\n",
        "    for k in range(len(tables[i])): # num cols\n",
        "      if tables[i][k]['test_expression'].iloc[j] == False:\n",
        "        cur_z = tables[i][k].iloc[j]['z_scores']\n",
        "        if cur_z > max:\n",
        "          max = cur_z\n",
        "          cur_expressed = k \n",
        "    tables[i][cur_expressed]['test_expression'].iloc[j] = True\n",
        "\n",
        "zscore_accuracy = []\n",
        "# get accuracy of each table\n",
        "for i in range(len(tables)):\n",
        "  avg_accuracy = 0\n",
        "  for j in range(len(tables[i])): # num cols\n",
        "    avg_accuracy = avg_accuracy + accuracy_score(tables[i][j]['expression'], tables[i][j]['test_expression'])\n",
        "  zscore_accuracy.append(avg_accuracy/len(tables[i]))\n",
        "  \n",
        "zscore_accuracy\n"
      ],
      "execution_count": null,
      "outputs": []
    },
    {
      "cell_type": "code",
      "metadata": {
        "id": "uFQBXln35KD3"
      },
      "source": [
        "# z scores by subtable\n",
        "import scipy.stats as stats\n",
        "\n",
        "# put dataframes into arrays, ex: idf_table[0]['value'] is the first column's values\n",
        "# split into subtables \n",
        "\n",
        "idf_table = []\n",
        "for i in range(1,len(idf.columns)):\n",
        "  idf_table.append(make_df_from_col(idf.iloc[:,i]))\n",
        "\n",
        "katG_table = idf_table[0:7]\n",
        "inhA_table = idf_table[7:]\n",
        "\n",
        "rdf_table = []\n",
        "for i in range(1,len(rdf.columns)):\n",
        "  rdf_table.append(make_df_from_col(rdf.iloc[:,i]))\n",
        "\n",
        "rdf_516_table = rdf_table[0:7]\n",
        "rdf_526_table = rdf_table[7:14]\n",
        "rdf_531_table = rdf_table[14:]\n",
        "\n",
        "sdf_table = []\n",
        "for i in range(1,len(sdf.columns)):\n",
        "  sdf_table.append(make_df_from_col(sdf.iloc[:,i]))\n",
        "\n",
        "sdf_rpsL_table = sdf_table[0:4]\n",
        "sdf_rrs_table = sdf_table[4:]\n",
        "\n",
        "edf_table = []\n",
        "for i in range(1,len(edf.columns)):\n",
        "  edf_table.append(make_df_from_col(edf.iloc[:,i]))\n",
        "\n",
        "# put those tables into an array to index them\n",
        "# ie: tables[0][0]['value'] would give the first column of the first table's values\n",
        "\n",
        "tables = [katG_table, inhA_table, rdf_516_table,rdf_526_table, rdf_531_table, sdf_rpsL_table, sdf_rrs_table, edf_table]\n",
        "\n",
        "def get_zscore(table):\n",
        "  values_mat = []\n",
        "  for i in range(len(table)):\n",
        "    for j in range(len(table[i]['value'])):\n",
        "      values_mat.append(table[i]['value'].iloc[j])\n",
        "  return stats.zscore(values_mat)\n",
        "\n",
        "\n",
        "# add a column to each row to hold its zscores\n",
        "for i in range(len(tables)):\n",
        "  zscores = get_zscore(tables[i])\n",
        "  count = 0\n",
        "  for j in range(len(tables[i])):\n",
        "    tables[i][j]['z_scores'] = zscores[count]\n",
        "    tables[i][j]['test_expression'] = False\n",
        "    count = count + 0\n",
        "\n",
        "# compares the zscores in each row and find the max value\n",
        "for i in range(len(tables)):\n",
        "  for j in range(tables[i][0].count()[0]): # num rows\n",
        "    max = tables[i][0].iloc[j]['z_scores']\n",
        "    cur_expressed = 0\n",
        "    for k in range(len(tables[i])): # num cols\n",
        "      cur_z = tables[i][k].iloc[j]['z_scores']\n",
        "      if cur_z > max:\n",
        "        max = cur_z\n",
        "        cur_expressed = k \n",
        "    tables[i][cur_expressed]['test_expression'].iloc[j] = True\n",
        "\n",
        "for i in range(5,7):\n",
        "  for j in range(tables[i][0].count()[0]): # num rows\n",
        "    if tables[i][cur_expressed]['test_expression'].iloc[j] == False:\n",
        "      max = tables[i][0].iloc[j]['z_scores']\n",
        "      cur_expressed = 0\n",
        "    else:\n",
        "      max = tables[i][1].iloc[j]['z_scores']\n",
        "      cur_expressed = 1\n",
        "    for k in range(len(tables[i])): # num cols\n",
        "      if tables[i][k]['test_expression'].iloc[j] == False:\n",
        "        cur_z = tables[i][k].iloc[j]['z_scores']\n",
        "        if cur_z > max:\n",
        "          max = cur_z\n",
        "          cur_expressed = k \n",
        "    tables[i][cur_expressed]['test_expression'].iloc[j] = True\n",
        "\n",
        "zscore_accuracy = []\n",
        "# get accuracy of each table\n",
        "for i in range(len(tables)):\n",
        "  avg_accuracy = 0\n",
        "  for j in range(len(tables[i])): # num cols\n",
        "    avg_accuracy = avg_accuracy + accuracy_score(tables[i][j]['expression'], tables[i][j]['test_expression'])\n",
        "  zscore_accuracy.append(avg_accuracy/len(tables[i]))\n",
        "  \n",
        "zscore_accuracy\n"
      ],
      "execution_count": null,
      "outputs": []
    }
  ]
}